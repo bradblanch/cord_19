{
 "cells": [
  {
   "cell_type": "markdown",
   "metadata": {},
   "source": [
    "# Processing the CORD-19 Dataset\n",
    "\n",
    "**Purpose:** This notebook is designed to interactively guide the user through processing the machine-readable corpus of COVID-19 research made available by the White House on 2020-03-16.  After downloading the original dataset, the user is simply required to input their directory (using the text boxes embedded in the Notebook) to read-in, process, and export the processed data.  This workflow is designed for anyone looking to leverage Python to explore and analyze the COVID-19 text.\n",
    "\n",
    "**About the Dataset:**\n",
    "In response to the COVID-19 pandemic, the Allen Institute for AI has partnered with leading research groups to prepare and distribute the COVID-19 Open Research Dataset (CORD-19), a free resource of over 29,000 scholarly articles, including over 13,000 with full text, about COVID-19 and the coronavirus family of viruses for use by the global research community.\n",
    "\n",
    "This dataset is intended to mobilize researchers to apply recent advances in natural language processing to generate new insights in support of the fight against this infectious disease. The corpus will be updated weekly as new research is published in peer-reviewed publications and archival services like bioRxiv, medRxiv, and others.\n",
    "    \n",
    "</br></br>\n",
    "- **Resources**\n",
    "    - **[Call to Action to the Tech Community on New Machine Readable COVID-19 Dataset](http://docs.h2o.ai/h2o/latest-stable/h2o-docs/automl.html)**\n",
    "    \n",
    "</br></br>\n",
    "- **Datasets**\n",
    "    - **[COVID-19 Open Research Dataset Challenge (CORD-19)](https://www.kaggle.com/allen-institute-for-ai/CORD-19-research-challenge)** - Kaggle is hosting the COVID-19 Open Research Dataset Challenge, a series of important questions designed to inspire the community to use CORD-19 to find new insights about the COVID-19 pandemic including the natural history, transmission, and diagnostics for the virus, management measures at the human-animal interface, lessons from previous epidemiological studies, and more.  You can download the full dataset on their website.\n",
    "    - **[COVID-19 Open Research Dataset (CORD-19)](https://pages.semanticscholar.org/coronavirus-research)** - The CORD-19 resource is available on the Allen Institute’s SemanticScholar.org website and will continue to be updated as new research is published in archival services and peer-reviewed publications.\n",
    "\n",
    "    \n",
    "## Table of Contents\n",
    "\n",
    "**1.0** **- Ingest Data**\n",
    "    * 1.1 - Set Your Working Directory\n",
    "    * 1.2 - Load Helper Functions\n",
    "    * 1.3 - Load Processing Functions\n",
    "    \n",
    "**2.0** **- Process Data**\n",
    "    * 2.1 - Run the Processing Function\n",
    "    * 2.2 - View a Sample of the Data \n",
    "   \n",
    "**3.0** **- Export Data**\n",
    "    * 3.1 - Load Export Functions\n",
    "    * 3.2 - Select Files and Export Locally\n",
    "\n",
    "## Dependencies\n",
    "\n",
    "This script was executed using the following version of Python:\n",
    "* **Python 3.6.2 :: Anaconda, Inc.**\n",
    "\n",
    "Use this link to install Python on your machine:\n",
    "* https://www.anaconda.com/distribution/#download-section\n",
    "\n",
    "**About Python Versions:**\n",
    "If you are running a higher-version of Python and this notebook fails to execute properly, you can downgrade your version in the terminal by running the following commands:\n",
    "* conda search python [to see which versions are available on your machine]\n",
    "* conda install python=3.6.2 [which will switch the active version to 3.6.2; if available in the list above]\n",
    "\n",
    "**About Python Packages:**\n",
    "All packages used in this notebook can be installed on your machine using the \"pip install [package_name]\" command on your terminal.  Be sure you've installed each of the packages below before attempting to execute the notebook.\n",
    "\n",
    "Current package requirements include:\n",
    "* os - https://docs.python.org/3/library/os.html\n",
    "* Pandas - https://pandas.pydata.org/\n",
    "* Numpy - http://www.numpy.org/\n",
    "* Datetime - https://docs.python.org/3/library/datetime.html\n",
    "* ipywidgets - https://ipywidgets.readthedocs.io/en/stable/user_install.html\n",
    "* ipython - https://ipython.org/ipython-doc/rel-0.10.2/html/interactive/extension_api.html\n",
    "* requests - https://2.python-requests.org/en/master/user/install/\n",
    "* io - https://docs.python.org/3/library/io.html\n",
    "* warnings - https://docs.python.org/3/library/warnings.html\n",
    "* pyarrow - https://arrow.apache.org/docs/python/parquet.html\n",
    "\n",
    "The current template uses the following versions:\n",
    "* os== module 'os' from '/anaconda3/lib/python3.6/os.py'\n",
    "* pandas==0.24.1\n",
    "* numpy==1.16.1\n",
    "* datetime== module 'datetime' from '/anaconda3/lib/python3.6/datetime.py'\n",
    "* ipywidgets==7.4.2\n",
    "* ipython==6.2.1\n",
    "* requests==2.18.4\n",
    "* io== module 'io' from '/anaconda3/lib/python3.6/io.py'\n",
    "* warnings== module 'warnings' from '/anaconda3/lib/python3.6/warnings.py'\n",
    "* pyarrow==0.16.0"
   ]
  },
  {
   "cell_type": "markdown",
   "metadata": {},
   "source": [
    "(1) Metadata for papers from these sources are combined: CZI, PMC, BioRxiv/MedRxiv. (total records 29500)\n",
    "\t- CZI 1236 records\n",
    "\t- PMC 27337\n",
    "\t- bioRxiv 566\n",
    "\t- medRxiv 361\n",
    "(2) 17K of the paper records have PDFs and the hash of the PDFs are in 'sha'\n",
    "(3) For PMC sourced papers, one paper's metadata can be associated with one or more PDFs/shas under that paper - a PDF/sha corresponding to the main article, and possibly additional PDF/shas corresponding to supporting materials for the article.\n",
    "(4)\t13K of the PDFs were processed with fulltext ('has_full_text'=True)\n",
    "(5) Various 'keys' are populated with the metadata:\n",
    "\t- 'pmcid': populated for all PMC paper records (27337 non null)\n",
    "\t- 'doi': populated for all BioRxiv/MedRxiv paper records and most of the other records (26357 non null)\n",
    "\t- 'WHO #Covidence': populated for all CZI records and none of the other records (1236 non null)\n",
    "\t- 'pubmed_id': populated for some of the records\n",
    "\t- 'Microsoft Academic Paper ID': populated for some of the records"
   ]
  },
  {
   "cell_type": "markdown",
   "metadata": {},
   "source": [
    "## Before you begin, ensure you've installed the required Python packages\n",
    "\n",
    "* See the list above and make note of the specific versions that were used in this notebook"
   ]
  },
  {
   "cell_type": "code",
   "execution_count": 46,
   "metadata": {},
   "outputs": [],
   "source": [
    "############################################\n",
    "###### Import required Python packages #####\n",
    "############################################\n",
    "\n",
    "import os\n",
    "import json\n",
    "from copy import deepcopy\n",
    "import datetime as dt\n",
    "import pyarrow\n",
    "import numpy as np\n",
    "import pandas as pd\n",
    "from ipywidgets import interact, interactive, IntSlider, Layout\n",
    "import ipywidgets as widgets\n",
    "from IPython.display import display\n",
    "import requests\n",
    "import warnings\n",
    "warnings.filterwarnings('ignore')"
   ]
  },
  {
   "cell_type": "markdown",
   "metadata": {},
   "source": [
    "## AN IMPORTANT NOTE ABOUT INTERACTIVE WIDGETS\n",
    "\n",
    "This notebook uses interactive widgets to help you make selections and inputs more conveniently.  As you work through this notebook, be sure to follow the steps below to ensure your selections are incorporated in the cells that follow:\n",
    "\n",
    "#### 1. Run the cell containing the interactive widget(s) to bring them into view\n",
    "#### 2. Apply your selections and/or inputs to the widgets that appear\n",
    "#### 3. DO NOT rerun the cell as it will erase your selections and inputs\n",
    "#### 4. To proceed, simply click on the next cell in the notebook, and Run it\n",
    "\n",
    "<br/>"
   ]
  },
  {
   "cell_type": "markdown",
   "metadata": {},
   "source": [
    "## 1.0 - Data Ingestion\n",
    "\n",
    "The series of code blocks below will walk you through the process of mapping to your working directory and uploading your dataset."
   ]
  },
  {
   "cell_type": "markdown",
   "metadata": {},
   "source": [
    "## 1.1 - Set Your Working Directory\n",
    "\n",
    "Your \"working directory\" is a folder location on your computer that will store files either read-in or written-out by this script.  This code by default will return your current, active directory.  You can change this directory by typing in a specific path into the text box provided."
   ]
  },
  {
   "cell_type": "code",
   "execution_count": 49,
   "metadata": {},
   "outputs": [
    {
     "data": {
      "application/vnd.jupyter.widget-view+json": {
       "model_id": "29461d5ea5ed44ff83fa70460919ab4e",
       "version_major": 2,
       "version_minor": 0
      },
      "text/plain": [
       "Text(value='/Users/bblanchard006/Desktop/covid19/2020-03-13', description='Directory:', layout=Layout(width='5…"
      ]
     },
     "metadata": {},
     "output_type": "display_data"
    }
   ],
   "source": [
    "set_working_directory = widgets.Text(\n",
    "    value=os.getcwd(),\n",
    "    placeholder='/Users/bblanchard006/Desktop/covid19/CORD-19-research-challenge',\n",
    "    description='Directory:',\n",
    "    disabled=False,\n",
    "    layout=Layout(width='50%')\n",
    ")\n",
    "\n",
    "display(set_working_directory)"
   ]
  },
  {
   "cell_type": "markdown",
   "metadata": {},
   "source": [
    "## Reminder: Do not rerun the cell above after applying your inputs\n",
    "\n",
    "### Click on and Run this cell to proceed\n",
    "\n",
    "After executing the cell above, you can leave the default directory or overwrite the text string that appears with your desired folder directory. **DO NOT execute the cell again after making your update.** The input above will be fed into the following code cell, where it will either successfully map to the new directory or notify you of an error."
   ]
  },
  {
   "cell_type": "code",
   "execution_count": 50,
   "metadata": {},
   "outputs": [
    {
     "name": "stdout",
     "output_type": "stream",
     "text": [
      "Changed directory to /Users/bblanchard006/Desktop/covid19/CORD-19-research-challenge\n"
     ]
    }
   ],
   "source": [
    "try:\n",
    "    os.chdir(set_working_directory.value)\n",
    "    print('Changed directory to {}'.format(set_working_directory.value))\n",
    "except Exception as e:\n",
    "    print('Failed to change directory')\n",
    "    print(e)"
   ]
  },
  {
   "cell_type": "markdown",
   "metadata": {},
   "source": [
    "## 1.2 - Load Helper Functions\n",
    "\n",
    "The list of functions below will help us extract the important attributes embedded in the .json files.  Much of the source material detailed below was originally published to the Kaggle community by various supporters and has been lightly modified for the purposes of this Notebook.  You can access the original walkthrough provided on Kaggle below:\n",
    "\n",
    "[CORD-19: EDA, parse JSON and generate clean CSV](https://www.kaggle.com/xhlulu/cord-19-eda-parse-json-and-generate-clean-csv)"
   ]
  },
  {
   "cell_type": "code",
   "execution_count": 51,
   "metadata": {},
   "outputs": [],
   "source": [
    "def format_name(author):\n",
    "    middle_name = \" \".join(author['middle'])\n",
    "    \n",
    "    if author['middle']:\n",
    "        return \" \".join([author['first'], middle_name, author['last']])\n",
    "    else:\n",
    "        return \" \".join([author['first'], author['last']])\n",
    "\n",
    "def format_affiliation(affiliation):\n",
    "    text = []\n",
    "    location = affiliation.get('location')\n",
    "    if location:\n",
    "        text.extend(list(affiliation['location'].values()))\n",
    "    \n",
    "    institution = affiliation.get('institution')\n",
    "    if institution:\n",
    "        text = [institution] + text\n",
    "    return \", \".join(text)\n",
    "\n",
    "def format_authors(authors, with_affiliation=False):\n",
    "    name_ls = []\n",
    "    \n",
    "    for author in authors:\n",
    "        name = format_name(author)\n",
    "        if with_affiliation:\n",
    "            affiliation = format_affiliation(author['affiliation'])\n",
    "            if affiliation:\n",
    "                name_ls.append(f\"{name} ({affiliation})\")\n",
    "            else:\n",
    "                name_ls.append(name)\n",
    "        else:\n",
    "            name_ls.append(name)\n",
    "\n",
    "    return \", \".join(name_ls)    \n",
    "\n",
    "def format_body(body_text):\n",
    "    texts = [(di['section'], di['text']) for di in body_text]\n",
    "    texts_di = {di['section']: \"\" for di in body_text}\n",
    "    \n",
    "    for section, text in texts:\n",
    "        texts_di[section] += text\n",
    "\n",
    "    body = \"\"\n",
    "\n",
    "    for section, text in texts_di.items():\n",
    "        body += section\n",
    "        body += \"\\n\\n\"\n",
    "        body += text\n",
    "        body += \"\\n\\n\"\n",
    "    \n",
    "    return body\n",
    "\n",
    "def format_bib(bibs):\n",
    "    if type(bibs) == dict:\n",
    "        bibs = list(bibs.values())\n",
    "    bibs = deepcopy(bibs)\n",
    "    formatted = []\n",
    "    \n",
    "    for bib in bibs:\n",
    "        bib['authors'] = format_authors(\n",
    "            bib['authors'], \n",
    "            with_affiliation=False\n",
    "        )\n",
    "        formatted_ls = [str(bib[k]) for k in ['title', 'authors', 'venue', 'year']]\n",
    "        formatted.append(\", \".join(formatted_ls))\n",
    "\n",
    "    return \"; \".join(formatted)\n",
    "\n",
    "def get_bib_authors(bibs):\n",
    "    if type(bibs) == dict:\n",
    "        bibs = list(bibs.values())\n",
    "    bibs = deepcopy(bibs)\n",
    "    formatted = []\n",
    "    \n",
    "    for bib in bibs:\n",
    "        bib['authors'] = format_authors(\n",
    "            bib['authors'], \n",
    "            with_affiliation=False\n",
    "        )\n",
    "        formatted_ls = [str.upper(bib[k]) for k in ['authors']]\n",
    "        formatted.append(\", \".join(formatted_ls))\n",
    "\n",
    "    return \"; \".join(formatted)\n",
    "\n",
    "def get_bib_titles(bibs):\n",
    "    if type(bibs) == dict:\n",
    "        bibs = list(bibs.values())\n",
    "    bibs = deepcopy(bibs)\n",
    "    formatted = []\n",
    "\n",
    "    for bib in bibs:\n",
    "        formatted_ls = [str.upper(bib[k]) for k in ['title']]\n",
    "        formatted.append(\", \".join(formatted_ls))\n",
    "\n",
    "    return \"; \".join(formatted)\n",
    "\n",
    "def get_bib_count(bibs):\n",
    "    if type(bibs) == dict:\n",
    "        num_bibs = len(bibs)\n",
    "\n",
    "    return num_bibs\n"
   ]
  },
  {
   "cell_type": "markdown",
   "metadata": {},
   "source": [
    "## 1.3 - Load Processing Functions\n",
    "\n",
    "The list of functions below will leverage the helper functions above to process, consolidate, and output the full-text articles from the CORD-19 data set into a columnar structure for machine learning."
   ]
  },
  {
   "cell_type": "code",
   "execution_count": 52,
   "metadata": {},
   "outputs": [],
   "source": [
    "def load_files(dirname):\n",
    "    filenames = os.listdir(dirname)\n",
    "    raw_files = []\n",
    "\n",
    "    for filename in filenames:\n",
    "        filename = dirname + filename\n",
    "        file = json.load(open(filename, 'rb'))\n",
    "        raw_files.append(file)\n",
    "    \n",
    "    return raw_files\n",
    "\n",
    "def generate_clean_df(all_files):\n",
    "    cleaned_files = []\n",
    "\n",
    "    for file in all_files:\n",
    "        features = [\n",
    "            file['paper_id'],\n",
    "            file['metadata']['title'].upper(),\n",
    "            format_authors(file['metadata']['authors']),\n",
    "            format_authors(file['metadata']['authors'], \n",
    "                           with_affiliation=True),\n",
    "            format_body(file['abstract']),\n",
    "            format_body(file['body_text']),\n",
    "            format_bib(file['bib_entries']),\n",
    "            get_bib_titles(file['bib_entries']),\n",
    "            get_bib_count(file['bib_entries']),\n",
    "            get_bib_authors(file['bib_entries']),\n",
    "        ]\n",
    "\n",
    "        cleaned_files.append(features)\n",
    "\n",
    "    col_names = [\n",
    "                 'paper_id',\n",
    "                 'title',\n",
    "                 'authors',\n",
    "                 'affiliations',\n",
    "                 'abstract',\n",
    "                 'text', \n",
    "                 'bibliography',\n",
    "                 'bibliography_titles',\n",
    "                 'number_of_references',\n",
    "                 'bibliography_authors',\n",
    "    ]\n",
    "\n",
    "    clean_df = pd.DataFrame(cleaned_files, columns=col_names)\n",
    "    clean_df.head()\n",
    "    \n",
    "    return clean_df"
   ]
  },
  {
   "cell_type": "markdown",
   "metadata": {},
   "source": [
    "The cell below loads the main processing function"
   ]
  },
  {
   "cell_type": "code",
   "execution_count": 55,
   "metadata": {},
   "outputs": [],
   "source": [
    "def process_data():\n",
    "\n",
    "    data_dict = {}\n",
    "    \n",
    "    folder_dir = [\n",
    "            'biorxiv_medrxiv',\n",
    "            'custom_license',\n",
    "            'comm_use_subset',\n",
    "            'noncomm_use_subset'\n",
    "    ]\n",
    "    \n",
    "    for f in folder_dir:\n",
    "        dir_mapping = os.getcwd()+os.sep+f+os.sep+f+os.sep\n",
    "        temp_files = load_files(dir_mapping)\n",
    "        temp_df = generate_clean_df(temp_files)\n",
    "        temp_df = temp_df.fillna('None')\n",
    "        temp_df = temp_df.replace(r'^\\s*$', 'None', regex=True)\n",
    "        data_dict.update({f+'_full_text':temp_df})\n",
    "\n",
    "    meta_file = pd.read_csv(os.getcwd()+os.sep+'metadata.csv')      \n",
    "    data_dict.update({'metadata_file':meta_file})\n",
    "\n",
    "    full_text_frames = []\n",
    "    for key, value in data_dict.items():\n",
    "        if key != 'metadata_file':\n",
    "            value['cord_19_source'] = key\n",
    "            full_text_frames.append(value)\n",
    "            \n",
    "    stacked_df = pd.concat(full_text_frames, sort=False)\n",
    "\n",
    "    sha_list = list(set(list(data_dict['metadata_file']['sha'])))\n",
    "    paper_id_list = list(set(list(stacked_df['paper_id'])))\n",
    "    \n",
    "    stacked_df['metadata_match'] = stacked_df['paper_id'].apply(lambda x: 'yes' if x in sha_list else 'no')  \n",
    "    data_dict['metadata_file']['paper_id_match'] = data_dict['metadata_file']['sha'].apply(lambda x: 'yes' if x in paper_id_list else 'no')\n",
    "\n",
    "    data_dict.update({'consolidated_full_text':stacked_df})\n",
    "\n",
    "    return data_dict\n"
   ]
  },
  {
   "cell_type": "markdown",
   "metadata": {},
   "source": [
    "## 2.0 - Process the Raw Data\n",
    "\n",
    "This code block will read in the 13k JSON files contained in the (4) folders making up the entire CORD-19 dataset."
   ]
  },
  {
   "cell_type": "markdown",
   "metadata": {},
   "source": [
    "## 2.1 - Run the Processing Function\n",
    "\n",
    "The following cell will execute the \"process_data()\" function on the (4) data folders included in the CORD-19 dataset.  The function will return a dictionary containing (5) seperate dataframes."
   ]
  },
  {
   "cell_type": "code",
   "execution_count": 56,
   "metadata": {},
   "outputs": [],
   "source": [
    "data_dict = process_data()"
   ]
  },
  {
   "cell_type": "markdown",
   "metadata": {},
   "source": [
    "## 2.2 - View a Sample of the Data\n",
    "\n",
    "The cell below will return the dimensions of the files processed and added to the dictionary"
   ]
  },
  {
   "cell_type": "code",
   "execution_count": 57,
   "metadata": {},
   "outputs": [
    {
     "name": "stdout",
     "output_type": "stream",
     "text": [
      "biorxiv_medrxiv_full_text with 885 rows and 11 columns was successfully added to dictionary\n",
      "custom_license_full_text with 16959 rows and 11 columns was successfully added to dictionary\n",
      "comm_use_subset_full_text with 9118 rows and 11 columns was successfully added to dictionary\n",
      "noncomm_use_subset_full_text with 2353 rows and 11 columns was successfully added to dictionary\n",
      "metadata_file with 44220 rows and 16 columns was successfully added to dictionary\n",
      "consolidated_full_text with 29315 rows and 12 columns was successfully added to dictionary\n"
     ]
    }
   ],
   "source": [
    "for key, value in data_dict.items():\n",
    "    print('{} with {} rows and {} columns was successfully added to dictionary'.format(key, value.shape[0], value.shape[1]))\n",
    "    "
   ]
  },
  {
   "cell_type": "markdown",
   "metadata": {},
   "source": [
    "The cell below will return the first row of data from the **consolidated_full_text** dataframe (which contains the stacked, full-text articles contained in the (4) primary datasets)"
   ]
  },
  {
   "cell_type": "code",
   "execution_count": 58,
   "metadata": {},
   "outputs": [
    {
     "data": {
      "text/html": [
       "<div>\n",
       "<style scoped>\n",
       "    .dataframe tbody tr th:only-of-type {\n",
       "        vertical-align: middle;\n",
       "    }\n",
       "\n",
       "    .dataframe tbody tr th {\n",
       "        vertical-align: top;\n",
       "    }\n",
       "\n",
       "    .dataframe thead th {\n",
       "        text-align: right;\n",
       "    }\n",
       "</style>\n",
       "<table border=\"1\" class=\"dataframe\">\n",
       "  <thead>\n",
       "    <tr style=\"text-align: right;\">\n",
       "      <th></th>\n",
       "      <th>paper_id</th>\n",
       "      <th>title</th>\n",
       "      <th>authors</th>\n",
       "      <th>affiliations</th>\n",
       "      <th>abstract</th>\n",
       "      <th>text</th>\n",
       "      <th>bibliography</th>\n",
       "      <th>bibliography_titles</th>\n",
       "      <th>number_of_references</th>\n",
       "      <th>bibliography_authors</th>\n",
       "      <th>cord_19_source</th>\n",
       "      <th>metadata_match</th>\n",
       "    </tr>\n",
       "  </thead>\n",
       "  <tbody>\n",
       "    <tr>\n",
       "      <th>0</th>\n",
       "      <td>f905f78b32f63c6d14a79984dfb33f1b358b8ab4</td>\n",
       "      <td>MULTIMERIZATION OF HIV-1 INTEGRASE HINGES ON C...</td>\n",
       "      <td>Meytal Galilee, Akram Alian</td>\n",
       "      <td>Meytal Galilee (Technion -Israel Institute of ...</td>\n",
       "      <td>Abstract\\n\\nNew anti-AIDS treatments must be c...</td>\n",
       "      <td>\\n\\nIn the absence of a curative treatment, th...</td>\n",
       "      <td>HIV drug resistance against strand transfer in...</td>\n",
       "      <td>HIV DRUG RESISTANCE AGAINST STRAND TRANSFER IN...</td>\n",
       "      <td>38</td>\n",
       "      <td>K ANSTETT, B BRENNER, T MESPLEDE, M A WAINBERG...</td>\n",
       "      <td>biorxiv_medrxiv_full_text</td>\n",
       "      <td>yes</td>\n",
       "    </tr>\n",
       "  </tbody>\n",
       "</table>\n",
       "</div>"
      ],
      "text/plain": [
       "                                   paper_id  \\\n",
       "0  f905f78b32f63c6d14a79984dfb33f1b358b8ab4   \n",
       "\n",
       "                                               title  \\\n",
       "0  MULTIMERIZATION OF HIV-1 INTEGRASE HINGES ON C...   \n",
       "\n",
       "                       authors  \\\n",
       "0  Meytal Galilee, Akram Alian   \n",
       "\n",
       "                                        affiliations  \\\n",
       "0  Meytal Galilee (Technion -Israel Institute of ...   \n",
       "\n",
       "                                            abstract  \\\n",
       "0  Abstract\\n\\nNew anti-AIDS treatments must be c...   \n",
       "\n",
       "                                                text  \\\n",
       "0  \\n\\nIn the absence of a curative treatment, th...   \n",
       "\n",
       "                                        bibliography  \\\n",
       "0  HIV drug resistance against strand transfer in...   \n",
       "\n",
       "                                 bibliography_titles  number_of_references  \\\n",
       "0  HIV DRUG RESISTANCE AGAINST STRAND TRANSFER IN...                    38   \n",
       "\n",
       "                                bibliography_authors  \\\n",
       "0  K ANSTETT, B BRENNER, T MESPLEDE, M A WAINBERG...   \n",
       "\n",
       "              cord_19_source metadata_match  \n",
       "0  biorxiv_medrxiv_full_text            yes  "
      ]
     },
     "execution_count": 58,
     "metadata": {},
     "output_type": "execute_result"
    }
   ],
   "source": [
    "data_dict['consolidated_full_text'].head(1)"
   ]
  },
  {
   "cell_type": "markdown",
   "metadata": {},
   "source": [
    "The cell below returns the full text from the first document found in the **consolidated_full_text** dataframe"
   ]
  },
  {
   "cell_type": "code",
   "execution_count": 59,
   "metadata": {},
   "outputs": [
    {
     "data": {
      "text/plain": [
       "['Introduction\\n\\nEighteen years ago, severe acute respiratory syndrome (SARS) broke out globally, which caused more than 8000 cases with a fatality rate of 9.6% (1). Since December 2019, a pneumonia infection with 2019-nCoV, which was now named as Novel Coronavirus Pneumonia (NCP), broke out in Wuhan, Hubei Province, China, and rapidly spread throughout China and to many other countries (2) (3) (4) . As of February 9, 2020, 2019-nCoV had transmitted to 34 provinces, regions and municipal cities across China. A total of 40,235 confirmed NCP cases with 908 deaths (2.3%) and 6,484 (16.1%) critically ill cases, and there were still 23,589 suspected cases (5) .As an emerging infectious disease, we need to quickly understand its etiological, epidemiological and clinical characteristics to take prevention and control measures. Several studies have described the epidemiological and clinical characteristics of NCP, and have demonstrated that it can transmitted between humans (4, 6) . A few studies have also estimated the basic reproduction number (R0) of NCP (6) (7) (8) (9) (10) (11) . For instance, Li et al. computed the R0 of 2.2 using daily NCP data before January 4 in Wuhan. Our study using early epidemic stage data also found reproductive number of NCP was 2.9 (11) . However, most of these studies employed daily reporting cases at very early epidemic stage or were purely based on mathematical modeling. It has been suggested that epidemic size may be seriously under-reported due to the unknown etiology and lack of diagnosis protocol at early epidemic stage (12) , which may lead to underestimation of R0. In addition, for control measures to be optimized during ongoing NCP epidemics, temporal changes in reproduction number must be tracked. However, none of previous studies have estimated time-varying instantaneous reproduction number (Rt), which is author/funder. All rights reserved. No reuse allowed without permission.The copyright holder for this preprint (which was not peer-reviewed) is the . https://doi.org/10.1101/2020.01.25.919787 doi: bioRxiv preprint 4 an important parameter for assessing whether the control and prevention measures are effective or whether additional measures are needed (13) . Moreover, excerpt for Hubei Province, most of confirmed cases reporting from other provinces were imported from Hubei Province at early epidemic stage. With increasing secondary cases in those provinces, however, it is unknown how much the Rt for secondary cases is in those Provinces. Knowing this information is very helpful to assess the epidemic trend and the effects of control measures in those provinces.As a milestone of global public health events, the transmission dynamics of SARS have been well studied (14, 15) . Comparing the transmissibility of NCP with SRAS could imply decision making on the prevention and control of NCP. Therefore, in this study, we described the epidemiological characteristics of NCP using the latest data across China, and estimated the basic and time-varying reproduction numbers which were compared with SARS. Our findings are critical to optimize prevention and control measures during the ongoing epidemic of NCP, as well as guide clinical management. author/funder. All rights reserved. No reuse allowed without permission. (17) and WHO website (18) , respectively.\\n\\nEstimating and nowcasting the daily incidence of NCP\\n\\nBecause only the daily number of reporting cases were obtained from regions out of Guangdong Province, we estimated the daily number of incidences using a generalized additive model (GAM) (Section 1.2 in Supplementary materials). First, we collected each individual onset date and reporting date in Guangdong province which was treated as a sample of all confirmed cases nationwide. Second, a GAM model was used to establish the relationship between onset date and reporting date, and obtained the lagged probability distribution of daily number of incidences for the number of reporting cases. Third, we used the lagged probability distribution author/funder. All rights reserved. No reuse allowed without permission.The copyright holder for this preprint (which was not peer-reviewed) is the . https://doi.org/10.1101/2020.01.25.919787 doi: bioRxiv preprint 6 to predict the daily number of incidences based on the daily number of reporting cases in other provinces of China, which was added up to obtain the daily incidences nationwide. In order to test the validity of this approach, we randomly divided all cases in Guangdong into two groups (group A and B). Cases in group A was used to establish a GAM model, which was then used to predict the number of incidences in group B. We then estimated the correlation between the actual incidence and the estimated incidence, and the results of cross-validation showed that the R 2 was 89.7%, and the root mean square error (RMSE) was 4.11 ( Figure S1 ).The number of occurred-but-not-yet-reported cases were further estimated during the study period, which caused by reporting delays. Reasons for such delays include the time to complete diagnosis test, logistics, and overwhelmed surveillance systems. To minimize the effects of reporting delay, we applied a Bayesian nowcasting model (Nowcasting by Bayesian Smoothing) to complement the daily total number of incidences (19) . This model is characterized by its ability to deal with the uncertainty in the delay distribution and the time evolution of epidemic curve.\\n\\nBasic reproduction number (R0)\\n\\nIn the early phase of an infectious disease outbreak, the initial reproductive rate approximated an exponential growth rate (20) . We selected a period of exponential growth in the epidemic curve to calculated R0, which was defined as the expected number of secondary cases produced by a typical primary case. Since the daily incidence data is an integer, Poisson regression was used to fit the exponential growth rate. We used a prior Gamma distribution for the generation time, with a shape parameter (mean generation time of 7.5 days) and a scale parameter (standard author/funder. All rights reserved. No reuse allowed without permission.The copyright holder for this preprint (which was not peer-reviewed) is the . https://doi.org/10.1101/2020.01.25.919787 doi: bioRxiv preprint 7 deviation of 3.4 days) from a previous study (7) . We estimated R0 of all confirmed NCP cases nationwide and in Wuhan, and R0 of SARS cases in Guangdong Province, Hong Kong and Beijing. We also estimated R0 for secondary NCP cases in Guangdong Province.\\n\\nTime-varying instantaneous reproduction number (Rt)\\n\\nIn contrast to R0, time-varying instantaneous reproduction number (Rt) represents the average number of secondary cases that would be produced by a typical primary case infected at time t if conditions remained constant after time t (13) . We estimated Rt from the time series of onset cases, with the same Gamma distribution of generation time as R0. In order to maintain the accuracy of the prediction and without hiding the underlying time trend, Rt values were estimated over a 10-day moving window. For the period of estimation, the end date was selected as the latest date of the available data, and the starting date was selected as the earliest date for which the 10-day instantaneous reproduction number estimated above could be assumed constant. We estimated Rt for all confirmed NCP cases nationwide, and in Wuhan, and for secondary NCP cases in Guangdong Province.\\n\\nStatistical analysis\\n\\nWe applied frequency and percentages (%) to describe categorical variables, and used mean±SD to describe the continuous variables. The doubling time of NCP and SARS were defined and estimated using a method proposed by Galvani et al (21) .\\n\\nSensitivity analysis\\n\\nA series of sensitivity analyses were conducted to quantify the effect of parameters changes on R0 value. We changed the shape parameter of Gamma distribution from 7.0 to 8.0 days for estimating the R0 of NCP cases, and changed the same parameter from 8.0 to 9.0 for estimating author/funder. All rights reserved. No reuse allowed without permission.The copyright holder for this preprint (which was not peer-reviewed) is the . https://doi.org/10.1101/2020.01.25.919787 doi: bioRxiv preprint 8 the R0 of SARS cases. R software (version 3.6.0) was used for data analyses, with \"NobBs\" package for building nowcast model, \"R0\" for calculating R0 and \"EpiEstim\" for estimating Rt. Two tailed P<0.05were considered statistically significant for all statistical tests.\\n\\nEthics statement\\n\\nData collection and analysis of cases were determined by the National Health Commission of the People\\'s Republic of China to be part of a continuing public health outbreak investigation and were thus considered exempt from institutional review board approval.author/funder. All rights reserved. No reuse allowed without permission.The copyright holder for this preprint (which was not peer-reviewed) is the . https://doi.org/10.1101/2020.01.25.919787 doi: bioRxiv preprint\\n\\nDescription of the outbreak\\n\\nAs of February 7, 2020, a total of 34,598 confirmed cases were identified in 34 provinces, Daily numbers of reporting cases continuously increased to the peak on February 4, 2020, and slightly decreased then after nationwide and in Wuhan. The peak of daily reporting cases was on January 31, 2020 in Guangdong Province, and then significantly decreased. The daily incidence after nowcasting showed similar trend with the reporting data. The doubling time of NCP was 2.4, 2.8, and 3.6 days nationwide, in Wuhan, and in Guangdong Province, respectively (Table 1) The copyright holder for this preprint (which was not peer-reviewed) is the . https://doi.org/10.1101/2020.01.25.919787 doi: bioRxiv preprint prior to the peak, respectively ( Table 1) .\\n\\nEstimation of basic reproduction number (R0)\\n\\nThe Table 1 ).\\n\\nEstimation of time-varying reproduction number (Rt)\\n\\nDuring the epidemic, at national level, Rt values increased from 6.9 (95%CI: 5.5-8.4) before January 9 to a peak of 8.8 (95%CI: 8.3-9.4) before January 16, and then continuously decreased to 1.59 (95%CI: 1.57-1.61) before February 6. The Rt values in Wuhan continuously decreased from 6.2 (95%CI: 4.9-7.6) by January 9 to 2.10 (95%CI: 2.07-2.14) before February 6. By contrast, Rt values for secondary NCP cases in Guangdong Province was kept at a low-level ranging from 0.8 (95%CI: 0.6-1.1) to 0.2 (95%CI: 0.2-0.3) during the epidemic (Figure 3 ).\\n\\nSensitivity analyses\\n\\nThe results of sensitivity analyses showed the R0 values of NCP and SARS were robust to the changes of GT ( Figure S3 ). For example, the R0 of NCP cases nationwide changed from 4.0 (95%CI: 3.9-4.1) using GT=7.0 to 4.9 (95%CI:4.8-5.1) using GT=8.0. author/funder. All rights reserved. No reuse allowed without permission.The copyright holder for this preprint (which was not peer-reviewed) is the . https://doi.org/10.1101/2020.01.25.919787 doi: bioRxiv preprint\\n\\nDiscussion\\n\\nThe 2019-nCoV is a novel coronavirus, which is different from SARS and other SARS-like viruses(3). However the time-varying transmission dynamics of NCP during the epidemic remain unclear(22). In this study, we estimated the R0 of NCP infected with 2019-nCoV nationwide, and found that the R0 was 4.5, which means an average of 4.5 secondary cases generated by a primary case in the early stage. An approaching R0 of 4.4 was found in Wuhan.Our estimated R0 was larger than that (R0=2.2) reported by Li et al. who employed the data in Wuhan between December 10, 2019 and January 4, 2020, the very early stage of this epidemic (7) . It was debated that the number of NCP cases might be seriously underreported in the early stage (10, 23) , since 2019-nCoV was confirmed on January 7, and the official diagnosis protocol was released by WHO until January 17 (12) . In addition, the surveillance was not widely conducted, and many infections may be missed. Read et al. estimated that only 5.1% of infections in Wuhan were identified in the early period (23). Zhao et al. estimated that the R0 of NCP was larger than 5.0 using national reported data from January 10 to January 24, 2020, under the scenario that the reporting rate was not changed during that period (12) .Although the fatality rate of NCP cases was much lower than SARS(1), we observed higher R0 and much shorter doubling time of NCP than SARS (14, 24, 25) , indicating the higher transmissibility of 2019-nCoV. These differences can be due to two reasons. First, epidemiological and clinical evidences suggest that asymptomatic or mild NCP cases during their incubation periods could effectively transmit 2019-nCoV, which was different from SARS because most SARS cases were infected by \"super spreaders\", and SARS cases in incubation period and mild cases could not infected susceptible (26) . The average incubation period of author/funder. All rights reserved. No reuse allowed without permission.The copyright holder for this preprint (which was not peer-reviewed) is the . https://doi.org/10.1101/2020.01.25.919787 doi: bioRxiv preprint NCP was 4.8 days, ranging from 1 to 14 days, and the average period from onset to isolation was 2.9 days (11) broadly conducted through various channels, which has improved the general public to understand the risk of NCP, and take voluntary actions to detect, diagnose and treat cases author/funder. All rights reserved. No reuse allowed without permission.The copyright holder for this preprint (which was not peer-reviewed) is the . https://doi.org/10.1101/2020.01.25.919787 doi: bioRxiv preprint 13 infected 2019-nCoV earlier. This can be verified by decreasing period from onset to diagnosis during the epidemic in Guangdong Province ( Figure S5 ).We also observed that the R0 was less than 1, and the Rt values continuously declined after January 23 for secondary NCP cases in Guangdong Province, which demonstrates that the implemented prevention and control measures have significantly reduced the risk of indigenous outbreak of NCP, and that the increasing NCP cases were dominated by imported cases.Meanwhile, we found that two secondary cases were infected through sharing the public elevator with cases from their neighbors, which indicates the higher risk of transmission of NCP in community. Similar cases were also reported in other regions. For example, Wang et al.reported that 57 (including 40 healthcare workers and 17 patients) out of 138 hospitalized patients were presumed to have been infected with 2019-nCoV in a Wuhan hospital (29) .Therefore, more efforts are needed to prevent the transmission in communities and other public places.This study has several strengths. First, this is the first study, to date, to assess the time-varying transmission dynamics of NCP based on incidence data nationwide. We also estimated instantaneous reproduction number for secondary cases in Guangdong Province. Secondly, we compared the transmission dynamics of NCP with SARS using the same methods. Third, we initially assessed the effects of control measures previously taken by the governments. These findings could provide important information for optimizing control measures.Our study has several limitations. First, the incidence date of confirmed cases in provinces except for Guangdong Province were estimated by a GAM modeling, which may lead to misclassification bias. However, the cross-validation test indicated a good performance of our author/funder. All rights reserved. No reuse allowed without permission.The copyright holder for this preprint (which was not peer-reviewed) is the . https://doi.org/10.1101/2020.01.25.919787 doi: bioRxiv preprint 14 GAM modeling. In addition, the R0 (3.8, 95%CI: 3.4-4.2) estimated for imported cases in Guangdong Province, as a sample of the total confirmed cases nationwide, was comparable with the R0 estimated nationwide, indicating that our results are robust. Second, we are still in the early stage of this outbreak, and there is much uncertainty in epidemiological parameters that affects transmissibility of NCP. Sequential studies are urgently needed to fill-in these knowledge gaps.In summary, NCP may have a higher pandemic risk than SARS in 2003, and the efforts of containing the outbreak are taking into effect. Our findings indicate that rigorous control and prevention measures taken by Chinese governments on early detection, diagnosis and treatment of NCP cases are still needed to uphold until the time-varying reproduction number below one. author/funder. All rights reserved. No reuse allowed without permission.The copyright holder for this preprint (which was not peer-reviewed) is the . https://doi.org/10.1101/2020.01.25.919787 doi: bioRxiv preprint\\n\\nData sharing\\n\\nThe data that support the findings of this study are available from the corresponding author on reasonable request. Participant data without names and identifiers will be made available after approval from the corresponding author. After publication of study findings, the data will be available for others to request. The research team will provide an email address for communication once the data are approved to be shared with others. The proposal with detailed description of study objectives and statistical analysis plan will be needed for evaluation of the reasonability to request for our data. The corresponding author will make a decision based on these materials. Additional materials may also be required during the process.author/funder. All rights reserved. No reuse allowed without permission.The copyright holder for this preprint (which was not peer-reviewed) is the . https://doi.org/10.1101/2020.01.25.919787 doi: bioRxiv preprint *: The R value was estimated in secondary cases in Guangdong Province.author/funder. All rights reserved. No reuse allowed without permission.The copyright holder for this preprint (which was not peer-reviewed) is the . https://doi.org/10.1101/2020.01.25.919787 doi: bioRxiv preprint 22 Figure 1 . Distribution of NCP cases worldwide and in China, as of February 7, 2020Panel A: The spatial distribution of NCP cases worldwide.Panel B: The spatial distribution of NCP cases in China. author/funder. All rights reserved. No reuse allowed without permission.The copyright holder for this preprint (which was not peer-reviewed) is the . https://doi.org/10.1101/2020.01.25.919787 doi: bioRxiv preprint author/funder. All rights reserved. No reuse allowed without permission.The copyright holder for this preprint (which was not peer-reviewed) is the . https://doi.org/10.1101/2020.01.25.919787 doi: bioRxiv preprint\\n\\n',\n",
       " \"Introduction\\n\\nSixty years ago, civil aviation was an infant industry that was responsible for a tiny proportion of the transport task. Today it is an integral part of the world economy, accounting for approximately nine per cent of global GDP and carrying more than two billion passengers and 41 million tonnes of freight and mail each year (Airbus, 2007; International Civil Aviation Organization (ICAO), 2007a; United Nations Statistics Division (UNSD), 2008) . Total world revenue traffic (international and domestic, passenger and cargo) on scheduled airlines in 2006 exceeded 510 billion revenue tonne kilometres (RTK), 1 which included almost four trillion revenue passenger kilometres (RPK). 2 In the same year, total revenues of the scheduled airlines of the parties to the Convention on International Civil Aviation of December 1944 (Chicago Convention) topped US$450 billion, more than 120 per cent above 1990 levels (ICAO, 2007a) .The success of the aviation industry is poised to continue over the coming decades. Industry forecasts predict worldwide RPK will grow at an average rate of approximately five per cent per annum over the next 20 years (Airbus, 2007; Boeing, 2007) . Cargo traffic, as measured in RTK, is expected to grow at around six per cent over the same period. If realised, these forecasts would see passenger (RPK) and cargo (RTK) traffic increase by 180 per cent and 220 per cent, respectively, between 2006 and 2026.Continuing rapid growth in aviation would provide economic benefits and allow greater mobility amongst the world's population. However, these benefits would come at a cost, most notably a significant increase in aviation greenhouse gas emissions. While aviation is not currently one of the main drivers of global warming, the growth trajectory of the industry suggests it could become a significant factor over the coming decades. A report prepared by the Intergovernmental Panel on Climate Change (IPCC) in 1999 at the request of the ICAO found that civil aviation carbon dioxide (CO 2 ) emissions could rise by between 60 per cent and over 1000 per cent between 1992 and 2050 (IPCC, 1999) . More recent research suggests that if strong global economic growth continues, aviation CO 2 emissions are likely to experience a greater than three-fold increase between 2000 and 2050 (Berghof et al., 2005 Horton, 2006) . Concerns about rapid growth in the industry and the associated threat to the climate system have prompted debate about the future of aviation.The international market has been the focal point of a considerable amount of the discussion about aviation and climate change. This is partly due to the fact that international aviation is responsible for over 60 per cent of total aviation emissions and is the fastest growing segment of the market. Measures to address international aviation emissions must also deal with several important legal and policy issues that do not arise in the context of domestic aviation.Concerns about emissions growth have led to calls for additional market measures to be introduced to restrict demand and prompt innovation in international aviation. These proposals have met resistance. Many governments have been concerned about the potential for such measures to adversely affect the aviation sector and associated industries such as tourism. Governments opposed to these initiatives have also raised questions about the legality of international aviation emission levies and measures that seek to unilaterally impose carbon prices on the extraterritorial emissions of foreign aircraft. The aviation industry has voiced similar concerns. Like many governments, the industry's current position is that it is opposed to emission levies, but supports emissions trading subject to certain conditions (e.g. it is introduced on the basis of mutual consent between participating nations and that the schemes are open and allow for permits to be traded with other sectors) (International Air Transport Association (IATA), 2008a, b).This paper aims to add to the growing body of literature on aviation and climate change by providing an overview of the science on aviation's contribution to climate change, analysing key trends in the industry since 1990, projecting international civil aviation CO 2 emissions to 2025 and determining the emission intensity improvements that are necessary to offset rising international demand. The objective is to highlight that it is unlikely international aviation emissions could be stabilised at levels consistent with risk averse climate targets (i.e. keeping the increase in the global average surface temperature to $2 1C above pre-industrial levels) without restricting demand.The paper is set out as follows. Section 2 provides background on the reasons for the separation of international and domestic aviation in policy processes. Section 3 discusses aviation's climate impacts. Section 4 analyses recent trends in the aviation industry, focusing on the international market. Section 5 projects international civil aviation emissions over the period 2005-2025 using ICAO traffic data. Section 6 analyses the emission intensity improvements that are necessary to offset the projected increases in demand. Section 7 provides a conclusion.\\n\\nThe division between international and domestic aviation\\n\\nCivil aviation is split into international and domestic components for the purposes of greenhouse gas emissions accounting and climate governance. The IPCC Guidelines for National Greenhouse Gas Inventories, which are used for the purposes of reporting under the United Nations Framework Convention on Climate Change (UNFCCC), defines international civil aviation emissions as 'emissions from flights that depart in one country and arrive in a different country', including take-offs and landings for the relevant flight stages (IPCC, 2006, p. 3.58) . Domestic aviation emissions are defined as 'emissions from civil domestic passenger and freight traffic that departs and arrives in the same country' (IPCC, 2006, p. 3.58) . Military aviation emissions are reported separately from civil aviation, or not reported at all.Under the UNFCCC, domestic aviation emissions are required to be included in national emission totals and are intended to be addressed at the national level within the UNFCCC/Kyoto Protocol regime. In contrast, international civil aviation emissions are excluded from national emission totals and are only reported in UNFCCC national inventory reports as a memo item. Further, Article 2(2) of the Kyoto Protocol vests responsibility for international aviation emissions in ICAO, a United Nations agency established under the Chicago Convention. As a consequence, international aviation emissions are intended to be addressed within the regime established under the Chicago Convention rather than through the UNFCCC.The reasons for the separation of international and domestic aviation emissions relate to the nature of international transport, the UNFCCC greenhouse accounting framework and international aviation law. The emission accounting rules under the UNFCCC dictate that emissions are only attributable to a country if they result directly from activities within its territory. International transport involves movements between countries, creating a problem for the standard accounting system. Further, under international aviation law, each country has complete and exclusive sovereignty over the airspace above their territory. Beyond their territorial airspace, the capacity of a country to regulate aircraft is limited and is subject to the body of law associated with the Chicago Convention and related bilateral air service agreements. Due to these issues, ICAO was seen as the appropriate body for addressing international aviation emissions.To date, ICAO has had little success in curbing the growth in international aviation emissions or progressing effective policy solutions. Its failures have been a product of a collection of factors. Most countries have been reluctant to undertake significant emissions abatement and obstruct growth in the aviation industry. As discussed, there is also an ongoing dispute about the legality of emission levies and the capacity of a country to unilaterally impose carbon prices on the extraterritorial emissions of foreign aircraft. In addition, there are debates about how international aviation emissions should be allocated between countries and the most appropriate design of an emissions trading scheme that applies to the sector. The political problems that have hindered progress on international aviation emissions are not unique. However, the legal, accounting and policy design issues that arise in this context set it apart from most other areas, including domestic aviation. International shipping is the only other sector that is confronted with the same types of problems.\\n\\nGreenhouse gas emissions from aviation\\n\\nAircraft emit a range of gases and particles which affect the atmosphere. In the context of climate change, the major emissions are CO 2 , nitrogen oxides (NO x ), 3 water vapour (H 2 O), sulphur oxides (SO x ) (which form sulphate particles) and soot (IPCC, 1999) . 4 A summary of the atmospheric impacts of these agents and estimates of their associated radiative forcings in 2000 is provided in Table 1 . Radiative forcing is a measure of the impact of an agent on the energy balance of the earth's atmosphere. It is technically defined as the change in net irradiance at the tropopause (i.e. the boundary between the troposphere and stratosphere) and is measured in watts per square metre (W/m 2 ) (IPCC, 2001) . A positive number indicates the agent has a warming effect, a negative number indicates a cooling agent.The IPCC has estimated that the total radiative forcing associated with anthropogenic agents in 2005 was 1.6 W/m 2 (0.6-2.4 W/m 2 ). This suggests aviation's contribution excluding cirrus cloud effects is in the order of three per cent. When cirrus cloud effects are included, aviation's contribution could possibly be as high as six to eight per cent. Hence, while aviation is not currently one of the main drivers of global warming, its effects are significant and should not be overlooked in policy processes.A technical difficulty facing policy makers seeking to address aviation emissions is how to account for non-CO 2 emissions. The nature of most non-CO 2 emissions precludes the use of standard\\n\\nARTICLE IN PRESS\\n\\n3 Nitrogen oxides comprise nitric oxide (NO) and nitrogen dioxide (NO 2 ). 4 The emissions differ depending on the stage in the operating cycle. At cruising altitude and during takeoff, the main emissions are CO 2 and NO x . While idle, the major non-CO 2 emissions are of hydrocarbons (HC), but significant amounts of NO x and carbon monoxide (CO) are also emitted. During the approach stage, there is a mixture of CO 2 , NO x , HC and CO (Bureau of Transport and Regional Economics (BTRE), 2002). global warming potentials (GWPs) to convert non-CO 2 emissions into carbon dioxide equivalents (CO 2 -e). GWPs are a measure of the cumulative radiative forcing associated with a unit mass of the relevant direct greenhouse gas when compared to the same mass of CO 2 over a specified period (typically 100 years) (IPCC, 2001). They are not calculated for H 2 O and indirect greenhouse gases like CO and NO x because of the variable nature of the relevant climate impacts (Forster et al., 2006; IPCC, 2001) . The absence of GWPs for H 2 O, NO x and CO emissions means it is very difficult to compare the impacts of a unit mass of these gases to those associated with a unit mass of direct greenhouse gases like CO 2 .One proposed solution is to use a radiative forcing index (RFI) (i.e. the ratio between the total radiative forcing from aviation and the radiative forcing associated with aviation CO 2 emissions) to devise a metric (often called an 'uplift factor'), which is used to estimate aviation CO 2 -e emissions. To do so, CO 2 emissions from aviation are multiplied by the uplift factor to provide an estimate of the total impact of aviation emissions in CO 2 -e. There is debate about the appropriateness of uplift factors and their use in policy processes. Questions have also been raised about what uplift factor should be applied. Recent studies indicate that the appropriate uplift factor could range between 1.7 and 5.1 times aviation CO 2 emissions depending on the timescales of the analysis (Forster et al., 2006; Sausen et al., 2005) . If the purpose is to provide an approximation of CO 2 -e using a 100-year timeframe, an uplift factor of 1.7 appears to be the best estimate, although it is subject to considerable uncertainty.An expectation of strong economic growth is the main underlying driver of the aviation traffic projections. Aviation traffic is usually highly responsive to economic growth rates; with increases in economic activity prompting greater than proportional increases in traffic (i.e. demand is income elastic). 9 Where this relationship does not hold, the cause can typically be traced to unforeseen market shocks. These market dynamics are evident in the trends in international aviation since 1990 (see Fig. 3 ). International traffic growth rates have generally been responsive to global GDP over this period. Significant divergences between the two were witnessed in response to a number of external shocks, including the East Asian Financial Crisis in 1997-98, the September 11 terrorist attacks in 2001 (which coincided with the global economic slowdown in 2001-02) and the severe acute respiratory syndrome (SARS) outbreak that began in November 2002.Over the coming decades, strong global economic growth is expected to lead to considerable growth in aviation demand. To offset the emission increases caused by rising demand, there would have to be radical improvements in emission intensity. The available evidence suggests this is unlikely. The IPCC's special report on aviation (IPCC, 1999) 1 9 9 0 1 9 9 1 1 9 9 2 1 9 9 3 1 9 9 4 1 9 9 5 1 9 9 6 1 9 9 7 1 9 9 8 1 9 9 9 2 0 0 0 2 0 0 1 2 0 0 2 2 0 0 3 2 0 0 4 2 0 0 5The above projections of international civil aviation CO 2 emissions do not fully account for the impacts of aviation emissions on the climate system. As discussed in Section 3, aviation non-CO 2 emissions (particularly NO x and H 2 O) have important climate impacts and are believed to account for 50-80 per cent of the current warming associated with aviation. If an uplift factor of 1.7 is used to estimate total CO 2 -e emissions, the emission intensity model suggests international aviation emissions will be between 1488-1722 Mt in 2025. While the use of uplift factors is controversial, these figures illustrate the potential magnitude of the total climate impacts associated with international aviation.As Fig. 6 shows, the results of the current study for 2025 align well with the base case (IS92a) and low growth (IS92c) scenarios from Vedantham and Oppenheimer (1998) , while being noticeably higher than those from Eyers et al. (2004) and Berghof et al. (2005) . 15 The trajectory of S1 and S2 also suggests emissions will be above the Horton (2006) projections in 2030. The differences between the results of the current study and those from Eyers et al. (2004) , Horton (2006) and Berghof et al. (2005) are attributable to a combination of a higher base year estimate in the current study, coverage (i.e. the current study includes scheduled and non-scheduled traffic) and higher traffic growth rates.International aviation demand is growing faster than many previously forecast. ICAO's (2007) traffic analysis suggest the strong growth will continue over the next two decades. The rise in oil prices and economic slowdown experienced in 2008 may alter these forecasts. However, if the 2007 predictions are realised, international aviation emissions are likely to be at the upper end of current projections. (ICAO, 2007c) . The global mail task was assumed to grow in accordance with the growth rates outlined in Table 3 . Global civil emissions in Vedantham and Oppenheimer (1998) , Eyers et al. (2004) and Berghof et al. (2005) were estimated by subtracting an estimate of military emissions from the global total. For Vedantham and Oppenheimer (1998) , the estimates of military emissions were derived using the nominal growth rates adopted in the study. 13 FW assumed security concerns and a move away from global integration obstruct traffic growth. 14 DtE assumed there is an aggressive push for greater environmental protection. 15 In reality, the international proportion of the estimates of global aviation emissions is likely to be lower than indicated in Fig. 6 . This is a product of the fact that domestic aviation tends to have higher emission intensity than international aviation due to the nature of the domestic task (i.e. shorter routes) and the domestic fleet.6. Can international emissions be stabilised without cutting demand?The results from the emission intensity model indicate that international aviation CO 2 emissions are likely to be more than 110 per cent above 2005 levels by 2025. Given the ambitious nature of the IATA target of improving the fuel efficiency of the fleet by 25 per cent by 2020, 16 the more probable outcome is an increase in international aviation emissions of greater than 140 per cent by 2025. If the international community agrees to pursue risk averse climate targets, new measures are likely to be necessary to control international aviation emissions.Calls for the introduction of mandatory measures to address aviation emissions have met with industry resistance. This is not extraordinary; most emission-intensive industries have resisted mandatory measures to curb greenhouse gas emissions. In responding to proposals for mandatory measures, the industry has relied heavily on the improvements in emission intensity as a means of deflecting criticism. Yet history has shown that demand growth generally outstrips emission intensity gains. Whether this trend continues in the future is unknown. However, the available evidence suggests international aviation emissions are unlikely to be stabilised unless there is a radical shift in technology or demand is restricted. 1 9 9 0 1 9 9 2 1 9 9 4 1 9 9 6 1 9 9 8 2 0 0 0 2 0 0 2 2 0 0 4 2 0 0 6 2 0 0 8 2 0 1 0 2 0 1 2 2 0 1 4 2 0 1 6 2 0 1 8 2 0 2 0 2 0 2 2 2 0 2 4 2 0 2 6 2 0 2 8 2 0 3 0 To demonstrate this, two hypothetical scenarios (S3 and S4) were developed using the traffic forecasts outlined in Table 3. S3 sought to answer the question: if demand is not restricted, by how much will the emission intensity of international aviation have to improve in order to keep CO 2 emissions below 831 Mt in 2025 (i.e. 100 per cent above 2005 levels). S4 was the same as S3, only the object was to determine by how much the emission intensity of international aviation would have to improve in order to stabilise CO 2 emissions at their 2005 levels by 2025 (i.e. 416 Mt).The results are shown in Table 5 and are compared to those from S1 and S2. Fig. 7 shows the emission intensities under S1-S4 and compares these to the trends over the last decade (1996) (1997) (1998) (1999) (2000) (2001) (2002) (2003) (2004) (2005) .As Table 5 and Fig. 7 illustrate, the task faced by the aviation industry if it proposes stabilising emissions without restricting demand is daunting. Without the imposition of carbon prices on international flights to suppress demand, it seems unlikely that international aviation emissions will be able to be kept below 850 Mt CO 2 by 2025 (i.e. more than 100 per cent above 2005 levels). International aviation CO 2 emissions are only likely to stay below this level if one or more of the following events occur: a prolonged global economic slowdown; an international shock, such as a major international conflict, pandemic or a substantial increase in the price of oil; or the emergence and rapid deployment of new emission saving technology. While more efficient aircraft are currently being rolled out (e.g. A380 and B787), the fuel efficiency gains associated with the latest generation of aircraft are unlikely to be sufficient to offset the increases in international demand. Moreover, international aircraft have relatively long commercial lifetimes (typically 15-35 years) (ICAO, 2007c) . Without aggressive policy measures to promote the deployment of state-of-the-art technology, the slow rate of turnover in the fleet will hinder progress on curbing emissions growth.\\n\\nRecent trends in aviation traffic and emissions\\n\\nThe aviation industry has grown rapidly in recent decades. Between 1990 and 2006, total scheduled world RTK increased by 119 per cent, with scheduled passenger (RPK) and cargo (RTK) traffic rising by 108 and 140 per cent, respectively. The major driver of global traffic growth since 1990 has been international services. Between 1990 and 2005, total international RTK increased by 141 per cent. In comparison, total domestic RTK rose by only 54 per cent (see Fig. 1 ).The increase in aviation traffic over the past 20 years has been accompanied by dramatic improvements in emission intensity. Data from the IATA suggest that system-wide fuel efficiency of scheduled IATA member services (i.e. international and domestic, passenger and cargo) improved by 23 per cent between 1994 and 2006; falling from 51.3 to 39.4 litres per RTK (L/RTK) (IATA, 2000 (IATA, -2007 . 5 Airbus has published data indicating that the fuel efficiency of the world passenger fleet improved by approximately 35 per cent between 1990 and 2007, falling from 7.3 to 4.7 L/100 RPK (Airbus, 2007) .The fuel efficiency and emission intensity of international aviation has followed the global trend. Over the period 1990-2005, the emission intensity of international aviation improved by 40 per cent (191-113 kg CO 2 /100 RTK). 6 These changes are attributable to three factors: beneficial changes in air traffic management (ATM) (ICAO Secretariat, 2007) ; improvements in aircraft and engine design 7 ; and a significant increase in load factors (i.e. aircraft are using more of their capacity). As shown in Fig. 2 , the greatest advances in the emission intensity of international aviation were experienced in the 1990s when the average annual rate of improvement was almost 4.5 per cent. Since 2000, the rate of improvement has fallen to 1.2 per cent, suggesting the opportunities for gains are diminishing.Despite the improvements in emission intensity, aviation CO 2 emissions have increased considerably since the early 1990s. (Marland et al., 2007) , suggesting that aviation constituted approximately 2.2 per cent of the world total, with international aviation emissions comprising 1.3 per cent. Aviation demand is set to experience rapid growth over the next 20 years. ICAO's most recent forecast suggests that the total scheduled passenger task (RPK) will grow at an average rate of 4.6 per annum between 2005 and 2025, with scheduled international RPK growing at 5.3 per cent per annum over the same period. Scheduled freight services are also expected to increase considerably, with overall freight RTK growing at 6.6 per cent per annum and international freight RTK growing at 6.9 per cent per annum. Boeing and Airbus have forecast similar rates of traffic growth (Airbus, 2007; Boeing, 2007 ).\\n\\nRTK (millions)\\n\\nInternational Domestic 1 9 9 0 1 9 9 1 1 9 9 2 1 9 9 3 1 9 9 4 1 9 9 5 1 9 9 6 1 9 9 7 1 9 9 8 1 9 9 9 2 0 0 0 2 0 0 1 2 0 0 2 2 0 0 3 2 0 0 4 2 0 0 5 kg CO 2 /100 RTK (1991) (1992) (1993) (1994) (1995) (1996) (1997) (1998) (1999) (2000) (2001) (2002) (2003) (2004) (2005) (2006) (2007) and IATA (2000) (2001) (2002) (2003) (2004) (2005) (2006) (2007) Table 2 . Aviation's contribution to global warming should not be exaggerated. Compared to activities such as electricity generation and agriculture, it is a minor contributor. However, sharp increases in emissions from any sector could compromise attempts to achieve risk averse climate targets and arguably the objective of avoiding dangerous climate change.Article 2 of the UNFCCC states that the objective of the convention is the 'stabilisation of greenhouse gas concentrations in the atmosphere at a level that would prevent dangerous anthropogenic interference with the climate system'. Based on the available science and informed by value judgments, many individuals and institutions have suggested that the threshold for dangerous climate change is an increase in the average surface temperature of between 1.7 and 2.5 1C above pre-industrial levels. 10 To have a reasonable chance of preventing global warming exceeding a 2 1C threshold, which is the most commonly cited target, the atmospheric concentration of greenhouse gases would have to be stabilised at less than 450 ppm CO 2 -e. Meeting this stabilisation target would require dramatic action. Global carbon emissions would have to be reduced by in excess of 60 per cent on 2000 levels by 2050 (IPCC, 2007) . The latest generation of climate models that account for climate-carbon cycle feedbacks suggest the required emission reductions may be greater than previously believed and that significant emission reductions may be necessary by 2030 just to keep the atmospheric concentrations of CO 2 below 450 ppm ($500-550 ppm CO 2 -e) (Friedlingstein et al., 2006; Meehl et al., 2007) .Theoretically, an increase in aviation emissions could be accommodated within a risk averse policy framework if there was offsetting abatement in other sectors. However, the extent of abatement that is necessary to ensure the increase in the global average surface temperature does not exceed 2 1C, and the speed at which it would have to occur, leaves little room for significant increases in emissions from any sector. Consequently, if there is a desire on behalf of policy makers to pursue a temperature target of around 2 1C, it is likely that steps will need to be taken in the near future to curb aviation emissions. International aviation emissions are of particular concern because of the speed at which demand is increasing and the political, legal and policy issues hindering the introduction of effective abatement measures.\\n\\nEmission projections\\n\\nThe reason for the concern about international civil aviation can be demonstrated by projecting international emissions over the period 2005-2025. To do this, the following equation was used:where E n ¼ t CO 2 emissions in year n, RTK n ¼ projected RTK in year n, EI n ¼ emission intensity of international aviation in year n, measured in t CO 2 per RTK. This is a simple emission intensity approach. It does not account for the interaction between demand and emission intensity and is only intended to provide a broad indication of possible outcomes.Two scenarios were developed using the emission intensity equation: S1 and S2. Details of S1 and S2 are provided in Table 3 .The traffic data for 2005 and 2006 were obtained from ICAO (2007a) and IATA (2006 IATA ( , 2007 , with the exception of the nonscheduled cargo data for 2006, for which data were not available. The 2006 non-scheduled cargo estimate was derived in accordance with the assumptions discussed in Table 3 . The emission intensity for the base year (2005) was derived using the IEA's estimate of international aviation emissions (IEA, 2007a). There is considerable uncertainty associated with international traffic, fuel and emission statistics, including those published by the IEA. The weaknesses in the available databases are well known and are discussed at length elsewhere. 11 Key problems include the reporting of non-scheduled traffic and the allocation of fuel between domestic, international and military uses. These issues add further uncertainty to the emission projections. 1991 1992 1993 1994 1995 1996 1997 1998 1999 2000 2001 2002 2003 2004 2005 Percent Real global GDP International aviation RTK The results for S1 and S2 are shown in Fig. 4 . Indices of projected CO 2 emissions at five-year intervals are provided in Table 4 . Under S1, international aviation CO 2 emissions rise from 416 in 2005 to 1013 Mt in 2025. Under S2, emissions increase to 876 Mt in 2025.\\n\\nComparison with previous projections\\n\\nThe results for S1 and S2 from the emission intensity model are at the higher end of previous international aviation emission projections. Olsthoorn (2001) projected that international aviation CO 2 emissions will be 86-144 per cent above 1995 levels by 2020 (or 383-503 Mt) and 187-513 per cent above 1995 levels by 2050 (591-1263 Mt) if carbon is not priced. These results suggest that by 2025, emissions will be approximately 100-190 per cent above 1995 levels ($410-600 Mt CO 2 ). In comparison, the emission intensity model predicts that emissions will be 150-190 per cent above 1995 levels in 2025 (876-1013 Mt CO 2 ). The results from Olsthoorn's (2001) low and high emission growth scenarios (the Ecological and Schumpter scenarios (marked 'OE' and 'OS' respectively)) are shown in Fig. 5 , along side the results from the emission intensity model. Much of the difference in absolute numbers is attributable to Olsthoorn's (2001) lower estimate of emissions in 1995 (206 Mt CO 2 compared to the latest IEA estimate of 306 Mt CO 2 ). In relation to the proportional increases, the emission intensity model results overlap the upper end of the range in Olsthoorn (2001) . The higher estimates from the emission intensity model are due mainly to differences in economic growth rates, which are a major determinant of aviation demand. The scenarios in Olsthoorn (2001) assumed annual global real GDP growth of 1.6-3.1 per cent. The ICAO traffic forecast used in the emission intensity model assumed real GDP growth of 3.5 per cent to 2025. Owen and Lee (2006) provide another source of comparison. The report, which was prepared for the UK Department of Environment, Food and Rural Affairs (DEFRA), projected scheduled domestic and international aviation CO 2 emissions over the period 2000-2050. The traffic forecasts prepared by the FESG for the sixth meeting of ICAO's Committee on Aviation Environmental Protection (CAEP/6) were used as the basis for the projections to 2020 (Wickrama et al., 2003) . Traffic forecasts for 2020-2050 were developed using a non-linear Verhulst logistic model derived from the historical relationship between aviation traffic and GDP between 1960 and 1995. The model was applied using the GDP growth rates from the IPCC's A1 and B2 SRES scenarios. The results suggest that scheduled international aviation CO 2 emissions will increase from approximately 240 projections and those from the current study are primarily due to a lower base year fuel quantity estimate in Owen and Lee (2006) and differences in scope (i.e. Owen and Lee (2006) exclude nonscheduled traffic, which is likely to have reduced their estimates by approximately 10 per cent). As discussed in Section 4, a number of long-range global aviation emission projections have been prepared. Vedantham and Oppenheimer (1998) Fig. 6 compares the results from the emission intensity model to selected adjusted results from Vedantham and Oppenheimer (1998) , Eyers et al. (2004) , Horton (2006) and Berghof et al. (2005) . The international component of the global estimates from these studies was estimated by assuming that international civil aviation CO 2 emissions are proportional to the international share of global scheduled traffic. The international/domestic traffic shares were devised using the ICAO (2007b) traffic forecasts. 12 From Vedantham and Oppenheimer (1998) , only the basedemand level projections for the IS92a (IPCC base case), IS92c (low growth) and IS92e (high growth) scenarios are shown (marked 'IS92a', etc.). Their high-demand projections were excluded because they currently appear to be less plausible than the base-demand projections. From Berghof et al. (2005) , only the Unlimited Skies (ULS) and Regulatory Push and Pull (RPP) scenarios are shown (marked as 'CONSAVE-ULS' and 'CONSAVE-RPP'). The other two scenarios from Berghof et al. (2005) (Fractured World (FW) 13 and Down to Earth (DtE) 14 ) were considered less likely. From Horton (2006) , only the Case 3 (or base case) outcomes are shown (marked 'AERO2k-H') because Cases 1 and 2 were theoretical cases based on no change in fuel efficiency, while Cases 4 and 5 were dependent on the imposition of carbon prices. The results from Eyers et al. (2004) are marked as 'AERO2k-E'.\\n\\nConclusion\\n\\nThe international aviation industry is facing increasing pressure to curb growth in its greenhouse gas emissions. To date, it has been able to deflect calls for the imposition of effective abatement measures, successfully arguing that it is only a minor cause of global warming and that it has achieved admirable advances in emission intensity since the early 1990s. The cause of the industry has been aided by a lack of political will and legal and policy disputes about how best to address emissions from international aviation.Frustrated at the lack of action, the European Union (EU) has proposed extending its emissions trading scheme to international aviation in 2012 (Council of the European Union (CEU), 2007; European Commission (EC), 2006) . This proposal has been met with near universal opposition from non-EU countries. At this point, it is unclear whether the EU will go ahead with its scheme and defy the international community. However, its willingness to propose the scheme is a sign of the intensity of the pressure for more action to be taken to contain the growth in emissions.The basis for the EU's concerns has been highlighted in this article. Projections based on ICAO's (2007) traffic forecast suggest international aviation CO 2 emissions will increase by between 111 and 144 per cent between 2005 and 2025 (i.e. from 416 Mt to between 876 and 1013 Mt). These projections are at the upper end of previous estimates, primarily because of an increase in forecast economic growth, higher base year emission estimates and broader coverage. It should also be emphasised that they are confined to CO 2 emissions and do not account for emissions of other gases and particles like H 2 O and NO x . If an uplift factor of 1.7 is used to estimate total CO 2 -e emissions, the emission intensity model suggests international aviation emissions will be between 1488 and 1722 Mt in 2025.Stabilising international aviation emissions at levels consistent with risk averse climate targets without restricting demand will be extremely difficult. To prevent emissions from increasing by 160.00 1 9 9 6 1 9 9 8 2 0 0 0 2 0 0 2 2 0 0 4 2 0 0 6 2 0 0 8 2 0 1 0 2 0 1 2 2 0 1 4 2 0 1 6 2 0 1 8 2 0 2 0 2 0 2 2 2 0 2 4 kg CO 2 /100 RTK S1 S2 S3 S4 Fig. 7 . Historic and projected emission intensity improvements 1996-2025. more than 100 per cent between 2005 and 2025, the emission intensity of international aviation would have to fall by 32 per cent, requiring an average annual decrease of 1.9 per cent. To stabilise emissions at 2005 levels, the emission intensity would have to be improved by 65 per cent, necessitating an average annual decrease of 5.2 per cent. With current technology, emission intensity improvements of this magnitude appear unlikely. Further action on international aviation emissions is likely to be necessary if the international community wants to keep the increase in the global average surface temperature to less than 2 1C. Under current policy settings, emissions are likely to increase significantly unless there is a major global economic downturn or other shock to the aviation market.\\n\\n\",\n",
       " \"Result\\n\\nGeneration of rNDVs expressing S1, S2 or S protein of IBV. The expression cassettes containing the codon optimized S1, S2, S and non-codon optimized S genes of IBV were cloned into the cDNA encoding the complete antigenome of NDV strain LaSota, using the PmeI site, between P and M genes (Fig. 1) . The correct sequences of genes cloned into full length cDNA of NDV were confirmed by nucleotide sequence analysis. Infectious recombinant NDVs containing S1, S2 and S genes of IBV were recovered from all cDNAs. The sequences of S1, S2 and S genes present in the rNDVs were confirmed by RT-PCR. To evaluate genetic stability of rNDV expressing codon optimized S protein, the viruses were passaged five times in 9-day-old embryonated specific pathogen free (SPF) chicken eggs. The nucleotide sequence analysis of the S gene showed that the inserted ORF were maintained without any adventitious mutations.Evaluation of the expression of the S1, S2 and S proteins of IBV. The expression of codon optimized S2, and S proteins and non-codon optimized S protein of IBV strain Mass-41 by rNDV constructs was detected by Western blot analysis in DF-1 cells using a chicken polyclonal anti IBV serum ( Fig. 2A -upper panel and B). As the expression of non-codon optimized S was not detected clearly in the first attempt ( Fig. 2A) , we detected it in another attempt (Fig. 2B) . The expression level of codon optimized S protein of IBV was significantly higher than that of the non-codon optimized S protein of IBV. For the codon optimized S protein of IBV expressed from rNDV ( Fig probably represent uncleaved S protein (S0) or polymeric forms of S protein. The ~95 kD band represents S2 or S1 subunit of cleaved S protein of IBV. In the case of rNDV/IBV-S2 strain ( Fig. 2A-lane 1) , there are two bands (~170-220 kDa) on top, representing polymeric folded forms of S2 protein, a ~105 kDa band and a ~95 kDa band representing S2 subunit. The expression of S2 protein from a transcription cassette in which the signal peptide sequences of S protein was not fused with S2 gene was not detected (data not shown). Lane 4 of Fig. 2A and lane 3 of Fig. 2B represent rNDV as control. Lane 5 of panel A represents non-infected DF-1 cells. These results showed that codon optimized S and S2 proteins of IBV were expressed efficiently. The non-codon optimized S protein was also expressed from rNDV, but not efficiently and not consistently. A monoclonal anti-NDV/HN antibody was used to detect a ~70 kDa of HN protein of NDV in lysates, confirming similar level of NDV protein in each lane ( Fig. 2A-lower panel) . We further evaluated incorporation of IBV S and S2 proteins into NDV virions. The rNDVs expressing codon optimized S and S2 proteins and rNDV expressing non-codon optimized S protein were inoculated into eggs, 3 days after inoculation, viral particles in infected allantoic fluid were partially purified and analyzed by Western blot (Fig. 2C-upper panel) . Two bands (~170-220 kDa) on top, representing S protein, a ~95 kDa band and a ~60 kDa band representing S2 or S1 subunit of cleaved S protein, were detected in purified particles of rNDV expressing codon optimized S protein by Western blot analysis (Fig. 2C-lane 2) . The lane 4 of Fig. 2C shows two bands (~170-220 kDa) on top, representing polymeric folded of S2 protein, a ~105 kDa band and a ~95 kDa band representing S2 subunit. The lane 1 of Fig. 2C represents purified rNDV control and lane 3 of Fig. 2C shows purified rNDV expressing non-codon optimized S protein. These results suggested that the codon optimized S and S2 proteins of IBV expressed by rNDVs were incorporated into rNDV particles. A monoclonal anti-NDV/HN antibody was used to detect a ~70 kDa of HN protein of NDV in partially purified virions, confirming similar level of NDV protein in each lane (Fig. 2C-lower panel) . The expression of codon optimized S1 protein expressed from four individual rNDV constructs were detected by Western blot analysis in lysates (Fig. 3A) and supernatant (Fig. 3B ) of infected DF-1 cells, using a chicken polyclonal anti IBV serum. The lanes 1-5 represent infected DF-1 cell lysates of rNDV, rNDV/S1, rNDV/ S1 + IBV-S-TM&CT, rNDV/S1(cs−) + NDV-F-TM&CT and rNDV/S1(cs+) + NDV-F-TM&CT, respectively. A ~130 kDa band representing expression of S1 by rNDV/S1 + IBV-S-TM&CT, rNDV/S1(cs−) + NDV-F-TM&CT, and rNDV/S1(cs+) + NDV-F-TM&CT in lysate of DF-1 cells (Fig. 3A -lanes 3-5) and rNDV/S1 in infected DF-1 cell supernatant (Fig. 3B-lane 2) was observed. Our attempts to detect the incorporation of the S1 protein into NDV envelope were not successful, due to the difficulties in the detection of very low level of S1 protein by Western blot analysis (data not shown). Our results showed that the S1 protein was expressed at very low level by all the rNDVs based on Western blot analysis. Only the unmodified S1 protein was detected in the cell culture supernatant.Growth characteristics of rNDV constructs. The recovered rNDVs were passaged in 9-day-old embryonated SPF chicken eggs. All the viruses were able to replicate well in eggs (≥2 8 HAU/ml). rNDV/S1, rNDV/ S1(cs+) + NDV-F-TM&CT, rNDV/S2, rNDV/codon optimized-S and rNDV were evaluated in the presence of exogenous protease in DF-1 cells (Fig. 4) . Compared to the parental virus, rNDV expressing codon optimized S protein of IBV grew slightly less efficiently. The maximum titer of parental virus reached 10 7.5 TCID 50 /ml at 40 hours post infection, whereas the maximum titer of rNDV expressing codon optimized S gene of IBV reached 10 7.2 TCID 50 /ml at 40 hours post infection. These results indicated that presence of S, S1 and S2 genes did not significantly affect the growth characteristics of rNDV.The protective efficacy of rNDVs expressing S1, S2 or S protein of IBV in chickens against a virulent IBV challenge. IBV protection experiment 1. To evaluate the protective efficacy of rNDVs expressing S1, S2 or S protein of IBV, SPF chicks were immunized at 1-day-old age with each virus via oculanasal (ON) route. At three weeks post-immunization, chickens were challenged with virulent IBV strain Mass-41. The severity scores of IBV clinical signs were recorded twice a day for 10 days post-challenge (Fig. 5A ). Compared to chickens immunized with parental rNDV and chickens inoculated with PBS, chickens immunized with rNDVs expressing Figure 1 . Schematic diagram of recombinant NDV constructs containing IBV genes. Seven transcription cassettes including; 1-4) Four versions of codon optimized S1 subunit of S gene of IBV strain Mass-41; namely, (a) S1 subunit of S gene (1614 nt), (b) S1 subunit of S gene (1611 nt) fused with N-terminus of transmembrane and cytoplasmic tail of S gene (255 nt), (c) S1 subunit of S gene (1611 nt) containing five putative cleavage site residues of S gene fused with N-terminus of transmembrane and cytoplasmic tail of F gene of NDV (171 nt). In this construct, five C-terminus putative cleavage site residues of S1 gene (RRFRR) plus the first serine (S) residue of N-terminus of transmembrane and cytoplasmic tail of F gene of NDV provides six putative cleavage site residues of S protein of IBV strain Mass-41 (RRFRR/S). (d) S1 gene (1593 nt) without cleavage site residues of S gene fused with N-terminus of transmembrane and cytoplasmic tail of F gene of NDV (171 nt), 5) the N-terminus of codon optimized S2 gene of IBV strain Mass-41 (1878 nt) fused with C-terminus of signal peptide sequence of S gene (69 nt), 6) the codon-optimized S gene (3489 nt) and 7) the non-codon optimized S gene of IBV strain Mass-41 (3489 nt) were flanked into individual plasmids containing cDNA of LaSota between P and M genes using PmeI site. Each transcription cassette contains the ORF of foreign gene with the addition of PmeI restriction enzyme site sequence, 15 nt of NDV UTR, GE signal of NDV, one T nucleotide as intergenic sequence, GS signal of NDV, nucleotides for maintaining the rule of six and Kozak sequence.SCientifiC REPoRTS | (2018) 8:11951 | DOI:10.1038/s41598-018-30356-2 codon optimized S, S1 or S2 protein of IBV showed significantly less severe of clinical signs (P < 0.05). Among groups of chickens immunized with rNDVs expressing codon optimized S1, S2 or S protein, the group immunized with rNDV expressing codon optimized S protein showed the least severity of clinical signs (P < 0.05). In order to evaluate the efficacy of rNDVs expressing S1, S2 or S protein of IBV in preventing shedding of virulent IBV challenge virus in immunized chickens, on day five post-challenge, tracheal swab samples were collected from chickens of each group and were evaluated for the viral load by RT-qPCR. Our results did not show significant difference in virus shedding among groups of immunized chickens at day five post challenge (Fig. 5B) . However, the results of the inoculation of the tracheal swab samples into 10-day-old embrynated chicken eggs showed that 14 out of 15 (93.3%) chickens vaccinated with rNDV expressing codon optimized S protein of IBV and 0 out of 5 (0%) of non-infected chickens were shedding virus in trachea, respectively, whereas 15 out of 15 (100%) of chickens of all other groups were shedding virus in the trachea (data not shown).IBV protection experiment 2. To evaluate the protective efficacy of rNDV expressing codon optimized S protein of IBV in adult chickens, SPF chickens were immunized at 4-week-old age. The protective efficacy of rNDV Two bands (~170-220 kDa) on top represent uncleaved S protein (S0) or polymeric forms of S2 or S1 protein (C-lane 2). The ~95 kDa and the ~60 kDa band represent S2 or S1 subunit of cleaved S protein (C-lane 2). The two bands (~170-220 kDa) on top represent polymeric forms of S2 protein, the ~105 kDa band and the ~95 kDa expressing codon optimized S gene of IBV was determined by challenging the immunized chickens with the World Organization for Animal Health (OIE) recommended dose (10 3.1 EID 50 ) of virulent IBV strain Mass-41 at 3 week post-immunization 1 . The severity scores of IBV clinical signs were recorded twice a day for 10 days post-challenge (Fig. 6A ). Compared to chickens inoculated with PBS, chickens immunized with rNDV expressing codon optimized S protein of IBV and chickens immunized with a commercial live attenuated IBV vaccine showed significantly less severe clinical signs (P < 0.05). In order to evaluate the efficacy of rNDV expressing S protein of IBV in preventing shedding of virulent IBV in immunized chickens, at day 5 following challenge with a Figure 3 . Western blot analysis of rNDV expressing S1 protein of IBV. The expression of codon optimized S1 protein of IBV expressed from four individual rNDVs expressing four different expression cassettes of S1 protein were detected using Western blot in cell lysates (A) and cell supernatant (B) of infected DF-1 cells infected with rNDVs, using a chicken polyclonal anti IBV serum. The lanes 1-5 represent cell lysates of rNDV, rNDV/S1, rNDV/S1 + IBV-S-TM&CT, rNDV/S1(cs−)+NDV-F-TM&CT, rNDV/S1(cs+) + NDV-F-TM&CT, respectively. A ~130 kD band represent expression of S1 protein by rNDV/S1 + IBV-S-TM&CT, rNDV/ S1(cs−) + NDV-F-TM&CT and rNDV/S1(cs+) + NDV-F-TM&CT in infected DF-1 cell lysate (A lanes [3] [4] [5] and rNDV/S1 in infected DF-1 cell supernatant (B-lane 2). The full-length gel is presented in Supplementary Figure S1 . The severity scores of IBV clinical signs include; ocular discharge, nasal discharge and difficulty in breathing (0 = normal, 1 = presence of mild ocular discharge, mild nasal discharge and or sneezing 2 = presence of heavy ocular discharge and or heavy nasal discharge with mild tracheal rales and mouth breathing and or coughing 3 = heavy ocular discharge and heavy nasal discharge with sever tracheal rales and mouth breathing, gasping, dyspnea and or severe respiratory distress) were recorded twice a day for each chicken for 10 days after challenge. The severity scores represent as average scores of clinical signs measured for each chicken over 10 days. (B) Relative viral load determined by RT-qPCR in tracheal swab samples at day five following virulent IBV challenge. The relative viral load expressed as mean reciprocal ± SEM log 10. whereas chickens inoculated with PBS showed high levels of viral load in the trachea (P < 0.05). However, compared to chickens immunized with a commercial IBV vaccine, chickens immunized with rNDV expressing codon optimized S showed slightly less viral load in the trachea (Fig. 6B ).IBV protection experiment 3. To evaluate the protective efficacy of rNDV expressing codon optimized S protein of IBV in adult chickens against a higher dose of virulent IBV challenge, SPF chickens were immunized at 4-week-old age. The protective efficacy of rNDV expressing codon optimized S gene of IBV was determined by challenging the immunized chickens with 10 4.7 EID 50 virulent IBV strain Mass-41 at 3 week post-immunization. The severity scores of IBV clinical signs were recorded twice a day for 8 days post-challenge (Fig. 7A ). Compared to chickens immunized with rNDV and chickens inoculated with PBS, chickens immunized with rNDV expressing codon optimized S protein of IBV and chickens immunized with a commercial live attenuated IBV vaccine showed significantly less severe clinical signs (P < 0.05). In order to evaluate the efficacy of rNDV expressing S protein of IBV in preventing shedding of virulent IBV in immunized chickens, at days 4 following challenge with virulent IBV, the tracheal swab samples collected from five chickens of each group were analyzed for the IBV specific lesions in chicken embryo. Our results showed that 2 out of 5 (40%) chickens vaccinated with rNDV expressing codon optimized S protein of IBV and 1 out of 5 (20%) chickens vaccinated with a commercial IBV vaccine were shedding virus in trachea, respectively, whereas 5 out of 5 (100%) of chickens immunized with parental rNDV and 5 out of 5 (100%) of chickens inoculated with PBS were shedding virus in the trachea (Fig. 7C) . The tracheal swab samples collected from five chickens of each group were also analyzed for the viral load by RT-qPCR. Our results showed that chickens vaccinated with rNDV expressing codon optimized S protein of IBV showed low levels of viral load in the trachea and chickens vaccinated with a commercial IBV vaccine showed very low levels of viral load in the trachea, whereas chickens inoculated with PBS and rNDV showed high levels of viral load in the trachea. Compared to chickens immunized with rNDV expressing codon optimized S protein, chickens immunized with a commercial IBV vaccine showed less viral load in the trachea (P < 0.05) (Fig. 7B ).IBV protection experiment 4. To evaluate the effect of the route of inoculation of virulent IB challenge virus on the outcomes of the protective efficacy of rNDV expressing codon optimized S protein of IBV, SPF chicks were immunized at 1-day-old age. The protective efficacy of rNDV expressing codon optimized S gene of IBV was determined by challenging the immunized chickens with 10 4 EID 50 virulent IBV strain Mass-41 by the intraocular route at 3 week post-immunization. This route of challenge has been specified in USDA-CFR-9 for IBV 33 . The severity scores of IBV clinical signs were recorded twice a day for 10 days post-challenge. Compared to chickens immunized with rNDV and unvaccinated chickens, chickens immunized with rNDV expressing codon optimized S protein of IBV and chickens immunized with a commercial live attenuated IBV vaccine showed significantly less severe clinical signs. However, compared to chickens immunized with commercial IBV vaccine, chickens immunized with rNDV expressing S protein showed less severe clinical signs (P < 0.05) (Fig. 8A) . In order to evaluate the efficacy of rNDV expressing S protein of IBV in preventing shedding of virulent IBV in immunized chickens, at days 5 following challenge with virulent IBV, the tracheal swab samples collected from all chickens of each group were analyzed for the IBV specific lesions in chicken embryos. Our results showed that 2 out of 10 (20%) chickens vaccinated with rNDV expressing codon optimized S protein of IBV and 5 out of 10 (50%) chickens vaccinated with a commercial IBV vaccine were shedding virus in trachea, respectively, whereas 10 out of 10 (100%) of chickens immunized with parental rNDV and 5 out of 5 (100%) of unvaccinated chickens, infected with IBV, were shedding virus in the trachea (Fig. 8B) .The protective efficacy of rNDVs against a highly virulent NDV challenge. To evaluate the protective efficacy of rNDV expressing S gene of IBV against a virulent NDV strain, groups of five 1-day-old chicks were immunized with rNDV, rNDV expressing codon optimized S protein and PBS. Three weeks after immunization, chickens were challenged with virulent NDV strain Texas GB in our BSL-3 plus facility. Our results showed that all chickens immunized with the rNDV and rNDV expressing codon optimized S gene of IBV survived after highly virulent NDV challenge, while all chickens in PBS group died at day 5 and 6 post-challenge (Fig. 9A) . Antibodies produced against IBV and NDV. Hemagglutination inhibition (HI) assay using a standard protocol of OIE was used to assess the level of antibodies mounted against NDV in serum samples of chickens 21 days after immunization. The results showed that HI titers of NDV was detected in serum samples of all chickens immunized with rNDV and rNDV expressing codon optimized S protein. There was no significant differences observed among HI titers against NDV in serum samples of chickens from groups immunized with rNDV and rNDV expressing S protein (Fig. 9B ). Virus neutralization assay was performed according to a standard protocol of OIE to assess the level of neutralizing antibodies mounted against IBV strain Mass-41 in serum samples of chickens at 21 days after immunization. The results showed that the neutralizing antibodies against IBV were detected in serum samples of chickens immunized with rNDV expressing codon optimized S protein of IBV and with commercial live attenuated IBV vaccine (Fig. 7D) . Neutralizing antibodies against IBV were not detected in 1:8 dilution of a serum sample from a chicken immunized with empty rNDV vector. This result showed that the rNDV expressing codon optimized S protein of IBV induces neutralizing antibodies against IBV.\\n\\nDiscussion\\n\\nThis study was conducted to compare the protective efficacies of S1, S2, and S proteins of IBV using rNDV as a vaccine vector. The S1, S2, and S genes of IBV strain Mass-41 were individually inserted between the P and M genes of rNDV strain LaSota. This site was chosen because it has been identified as the optimal site for insertion of foreign genes into NDV genome 26,34-37. Four different versions of IBV S1 gene were used to identify the version that is expressed at the highest level and incorporated into NDV particles. We were able to recover all the recombinant viruses and their growth characteristics were similar to rLaSota. However, the recombinant viruses containing IBV S gene grew slightly slowly than the parental virus. The viruses were stable after passages in SPF chicken embryos. Western blot analysis showed that chicken codon optimized S2 and S proteins were expressed at much higher levels and were incorporated into NDV particles. Whereas, all the four versions of S1 protein were detected at very low levels by Western blot analysis. It is noteworthy that the unmodified S1 protein was detected in the infected cell culture supernatant, indicating that the modification of S1 protein probably caused retention of the protein in the cell. These results suggest that the S2 protein acts as a chaperone to assist in the folding of the S1 protein. The S1 protein is folded incorrectly in the absence of S2 protein and the new structure probably causes loss of some conformational epitopes for IBV antibodies.In the first IBV protection experiment, we found that 1-day-old chicks immunized with rNDV expressing the S protein of IBV conferred better protection from disease compared to 1-day-old chicks immunized with rNDVs expressing either S1 or S2 protein of IBV. Our results showed that the S protein, which contains both S1 and S2 proteins, is the best protective antigen of IBV. The S2 protein lacks major neutralizing epitopes which are present in the S1 protein, hence it is not an effective antigen. The S1 protein contains major neutralizing epitopes, but it losses some conformational epitopes when expressed separately. Although in the first study we showed that rNDV expressing S protein provided enhanced protection, it could not reduce virus shedding, indicating that we needed to determine whether the elimination of virus shedding would probably require a much higher level of immune response than that is induced by rNDV expressing S protein or would require the optimization of the IBV protection study. In this study, our results support previous reports that rNDV vectored IBV vaccines prevent disease but do not stop virus shedding 23, 24 . These results also support the recent report that a spike ectodomain subunit vaccine protects chickens against IBV 38 .In the second IBV protection experiment, we investigated whether age at immunization influences the outcome of IBV challenge. Our results showed that a single immunization of 4-week-old chickens with rNDV expressing S protein completely protected chickens against IBV challenge based on disease and viral load in tracheas. Indeed, the level of protection conferred by rNDV expressing S protein was similar to that of a commercial IBV vaccine. However chickens immunized with either commercial live attenuated IBV vaccine or rNDV expressing IBV S protein showed very low levels of tracheal viral load. This showed that protection was greater when the chickens were immunized at an age when their immune system is relatively well developed. In the third IBV protection experiment, we showed that rNDV expressing IBV S protein protects adult chickens against a higher dose of virulent IBV challenge. However, compared to standard challenge dose of virulent IBV, a higher challenge dose of virulent IBV caused higher levels of tracheal viral load in adult chickens immunized with rNDV expressing IBV S protein and low levels of tracheal viral load in chickens immunized with commercial live attenuated IBV vaccine. Our result showed that although both the age of immunization and dose of challenge virus affect the results of IBV challenge, the influence of the age of immunization is greater than the effect of the dose of challenge virus.Our results also showed that when we challenged adult immunized chickens with standard challenge dose of virulent IBV, rNDV expressing S protein showed slightly better protection than a commercial live IBV vaccine, based on disease and viral shedding in trachea, but when the adult immunized chickens were challenged with a higher dose of virulent IBV, commercial live IBV vaccine showed slightly better protection than rNDV expressing S protein. Hence to compare the efficacy of rNDV expressing S protein of IBV with the efficacy of live attenuated IBV vaccine, a large IBV protection study using commercial chickens is needed.In the fourth IBV protection experiment, we showed that rNDV expressing IBV S protein protected young chickens against virulent IBV challenge by the intraocular route. The route of challenge has been recommended by USDA-CFR-9. Our results showed that compared to infection of chickens with virulent IBV by the oculanasal route, infection of chickens with virulent IBV by the intraocular route, caused much lower levels of tracheal viral load in young chickens immunized with rNDV expressing IBV S protein and low levels of tracheal viral load in chickens immunized with commercial live attenuated IBV vaccine. Our results showed that the route of the challenge virus inoculation affected the results of the tracheal virus shedding in young chickens immunized by rNDV expressing S protein following IBV challenge; however, it did not affect the outcomes of the severity of clinical signs.Although our studies showed that the rNDV expressing the S protein and commercial live IBV vaccine provided comparable protection, rNDV expressing the S protein has several advantages over live IBV vaccines in controlling IB in the field. (i) NDV vectored IBV vaccine is highly safe in 1-day-old chicks, (ii) it will not create new vaccine derived variant viruses, which is a major concern in using live modified IBV vaccines, (iii) a single vaccine can be used to control both NDV and IBV, (iv) we believe that the level of immunity induced by the NDV vectored vaccine against IBV is probably sufficient to completely stop IBV infection in field condition, and (v) the immune response of NDV vectored vaccine can be enhanced by prime-boost vaccination strategy.In summary, we have shown that although the S1 and S2 proteins of IBV are known to contain virus neutralizing epitopes, the presence of the whole S protein is necessary for eliciting a strong protective immune response. The S protein is the antigen of choice for any vectored IBV vaccine. NDV is an attractive vaccine vector for IBV, because it can be used as a bivalent vaccine. Our results suggest that a recombinant NDV vectored IBV vaccine is the vaccine of choice for controlling IBV infection in the field.\\n\\nCells and viruses. Chicken embryo fibroblast (DF-1) cells and human epidermoid carcinoma (HEp-2)\\n\\ncells were obtained from the American Type Culture Collection (ATCC, Manassas, VA). They were grown in Dulbecco's minimal essential medium (DMEM) containing 10% fetal bovine serum (FBS). The recombinant avirulent NDV strain LaSota was generated previously in our laboratory using reverse genetics 39 . The rNDV and rNDVs expressing chicken codon optimized S1, S2 and S genes and non-codon optimized S gene of IBV strain Mass-41 were grown in 9-day-old embryonated SPF chicken eggs at 37 °C. The virulent IBV strain Mass-41 was propagated in 10-day-old SPF embryonated chicken eggs and harvested five days after infection. The titer of virus in harvested allantoic fluid was determined by 50% embryo infectious dose (EID 50 ) method. Briefly, ten-fold serial dilutions of IBV strain Mass-41 was inoculated into 10-day-old embryonated SPF chicken eggs. Seven days after inoculation, infected embryos were examined for IBV specific lesions such as stunting or curling. The titer of virus was calculated using Reed and Muench method 40 .The modified vaccinia virus strain Ankara expressing T7 RNA polymerase (MVA-T7) was propagatd in monolayer primary chicken embryo fibroblast cells.Generation of rNDVs containing S1, S2 or S gene of IBV. A plasmid containing full-length antigenomic cDNA of NDV strain LaSota has been constructed previously 39 . In order to develop an effective IBV vaccine the maximum neutralizing epitopes with correct conformation are needed to be displayed. Most neutralizing epitopes are located in the S protein. In this study seven transcription cassettes containing S, S1 or S2 genes of IBV were constructed to identify the best protective antigen for the development of NDV vectored IBV vaccines. The S, S1 and S2 genes were chicken codon optimized for higher level of expression in chickens. The following transcription cassettes were designed: (i) a transcription cassette containing the S gene of IBV strain Mass-41 (3489 nt) was designed to determine whether the expression of the whole S gene from NDV will lead to display the maximum neutralizing epitopes in correct conformation, (ii) a transcription cassette containing the S2 subunit of S gene (1878 nt) of IBV fused with C-terminus of signal peptide sequence of S gene (69 nt) was constructed for transport of the protein from the cell (iii) a transcription cassette containing the S1 subunit of S gene (1614 nt) was designed to determine the protective efficacy of S1 protein, (iv) a transcription cassette containing the S1 gene (1611 nt) fused with N-terminus of transmembrane and cytoplasmic tail of S gene (255 nt) was designed for incorporation into NDV envelop, (v) a transcription cassette containing the S1 subunit of S gene without S1 protein cleavage site residues (1593 nt) fused with N-terminus of transmembrane and cytoplasmic tail of NDV F gene (171nt) was designed for incorporation of the S1 protein into envelope of NDV. (vi) a transcription cassette containing the S1 subunit of S gene containing S1 protein cleavage site residues (1611 nt) fused with N-terminus of transmembrane and cytoplasmic tail of NDV F gene (171 nt) was designed to incorporate the S1 protein into NDV envelope and also to know whether adding the cleavage site residues has any effect on the fusion of two SCientifiC REPoRTS | (2018) 8:11951 | DOI:10.1038/s41598-018-30356-2 proteins, and (vii) a transcription cassette containing the non-codon optimized S gene (3489 nt) was constructed to compare the level of protein expression between the codon optimized and non-codon optimized S genes.NDV genome contains six genes: nucleocapsid(N), phosphoprotein(P), matrix(M), fusion(F), hemagglutinin-neuraminidase(HN) and large(L). The genes are ordered 3′-N-P-M-F-HN-L-5′. The beginning and the end of each gene contain conserved transcriptional sequences known as the gene-start (GS) and gene-end (GE), respectively. Between the genes, there are gene junctions 26 . Any of the gene junctions is a potential insertion site for the transcription cassette of a foreign gene. However, we and others have found that the intergenic region between the P and M genes is a good site for expression of most foreign genes 26, [34] [35] [36] [37] . The transcription cassettes containing IBV genes contained PmeI restriction enzyme sequence, 15 nt of untranslated region (UTR) of NDV, NDV GE signal, one T nucleotide as intergenic sequence, NDV GS signal, extra nucleotides to maintain the rule of six 26, 41 , Kozak sequence at the upstream of foreign gene ORFs and PmeI restriction enzyme sequence at downstream of foreign gene ORF. The transcription cassettes of codon optimized and non-codon optimized S gene were digested from two commercially synthesized (GenScript; pUC57-IBV-Mass-41-S syn) plasmids containing codon optimized (GenScript; optimization on Gallus Gallus codons using OptimumGene TM PSO algorithm) and non-codon optimized S gene of IBV strain Mass-41(GenBank Accession no. AY851295. 1), respectively. The transcription cassettes of codon optimized S1 and S2 genes were amplified from the commercially synthesized plasmid containing codon optimized S gene of IBV strain Mass-41 and cloned into individual shuttle vectors (pGEM ® -T Easy Vector, Promega Corporation). Then the flanking DNA of transcription cassettes were digested from shuttle vectors. The transcription cassettes derived from shuttle vectors were cloned into complete individual plasmids containing cDNA of rLaSota at P and M gene junction using PmeI site (Fig. 1) . The correct sequences of the foreign genes were confirmed by nucleotide sequence analysis. rNDVs containing the IBV genes were recovered by reverse genetics as described previously 39 .Briefly, each full length cDNA was co-transfected with three expression plasmids containing N, P or L gene of NDV strain LaSota into MVA-T7 infected HEp-2 cells. Three days post-transfection, 200 µl of supernatant of transfected cells were inoculated in 9-11 day-old SPF embryonated chicken eggs. After three days, haemaglutination test was used to detect infected allantoic fluids collected from eggs. rNDVs containing S1 gene, S1 gene fused with transmembrane and cytoplasmic tail of IBV S gene, S1 gene containing cleavage site residues of S gene of IBV fused with transmembrane and cytoplasmic tail of NDV F gene, S1 gene without cleavage site residues of S gene fused with transmembrane and cytoplasmic tail of NDV F gene, S2 gene, codon optimized S gene and non-codon optimized S gene were named rNDV/S1, rNDV/S1 + IBV-S-TM&CT, rNDV/S1(cs+) + NDV-F-TM&CT, rNDV/S1(cs−) + NDV-F-TM&CT, rNDV/S2, rNDV/codon optimized-S and rNDV/non-codon optimized-S, respectively. The IBV genes were amplified from the rNDV constructs by RT-PCR.Expression of S1, S2 and S proteins of IBV. Confluent monolayers of DF-1 cells were infected at a multiplicity of infection (MOI) of 0.01-0.1 with rNDV strain LaSota, rNDV/S1, rNDV/S1 + IBV-S-TM&CT, rNDV/ S1(cs+) + NDV-F-TM&CT, rNDV/S1(cs−) + NDV-F-TM&CT, rNDV/S2, rNDV/codon optimized-S or rNDV/ non-codon optimized-S. DF-1 cells were harvested 30 hours post-infection, lysed and analyzed by Western blot. A polyclonal chicken anti-IBV strain Mass-41 was used to detect the expression of S1, S2 and S proteins of IBV.To determine the incorporation of IBV proteins into NDV envelope, rNDV, rNDV/S2, rNDV/codon optimized-S and rNDV/non-codon optimized-S were inoculated into 9-day-old embryonated SPF chicken eggs. Three days after incubation, recombinant viral particles from infected allantoic fluids were partially purified by sucrose density gradient centrifugation and analyzed by Western blot analysis. A monoclonal anti-NDV/HN antibody also was used to detect HN protein of NDV in lysates and purified virions by one more Western blot analysis.Growth characteristics of rNDV constructs. In order to determine the growth kinetics of rNDVs expressing S1, S2 or S protein of IBV, confluent monolayers of DF-1 cells in 6-well tissue culture plates were infected at a MOI of 0.1 with rNDV, rNDV/S1(cs+) + NDV-F-TM&CT, rNDV/S2 and rNDV/codon optimized-S and adsorbed for 90 minutes at 37 °C. After adsorption, cells were washed with PBS, then incubated with DMEM containing 2% FBS and 10% fresh SPF chicken egg allantoic fluid at 37 °C in presence of 5% CO 2 . Aliquots of 200 µL of supernatant from infected cells were collected and replaced with fresh DMEM including FBS at intervals of 8 hours until 64 hours post-infection. The titer of virus in the harvested samples was determined by TCID 50 method in DF-1 cells in 96-well tissue culture plates.The protective efficacy of rNDVs expressing S1, S2 and S protein of IBV against virulent IBV challenge. Based on the level of expression of S1, S2 and S proteins of IBV from rNDVs, rNDV/ S1(cs+) + NDV-F-TM&CT, rNDV/S2, and rNDV/codon optimized-S viruses were selected for animal study to evaluate their protective efficacy against virulent IBV challenge.IBV protection experiment 1. In this study, the protective efficacy of rNDVs expressing S1, S2 or S protein of IBV strain Mass-41 were evaluated in 1-day-old SPF chicks. Briefly, a total of eighty 1-day-old chicks were divided into five groups of fifteen each and one group of five. Chicks of the first four groups were inoculated with 10 7 EID 50 of rNDV, rNDV/S1(cs+) + NDV-F-TM&CT, rNDV/S2 and rNDV/codon optimized-S strains via oculonasal route. The fifteen chicks of group five and five chicks of group six were inoculated with PBS. Three weeks after immunization, all immunized chickens, were challenged with 10 3.1 EID 50 of virulent IBV strain Mass-41. This challenge virus dose was determined by an experimental chicken infection study. The severity scores of clinical signs of IBV including, nasal discharge, ocular discharge and difficulty in breathing (0 = normal, 1 = presence of mild ocular discharge, mild nasal discharge and or sneezing 2 = presence of heavy ocular discharge and or heavy nasal discharge with mild tracheal rales and mouth breathing and or coughing 3 = heavy ocular discharge and heavy nasal discharge with sever tracheal rales and mouth breathing, gasping, dyspnea and or severe SCientifiC REPoRTS | (2018) 8:11951 | DOI:10.1038/s41598-018-30356-2 respiratory distress) were recorded twice a day for 10 days post-challenge. In order to evaluate protective efficacy of rNDVs expressing S1, S2 and S genes of IBV in preventing shedding of virulent IBV in immunized chickens, at day five post-challenge, tracheal swab samples were collected from fifteen birds of each group and placed in 1.5 mL serum free DMEM with 10 X antibiotics. The swab samples were analyzed for quantification of viral RNA using an IBV-N gene-specific RT-qPCR.IBV protection experiment 2. In this study, the protective efficacy of rNDV expressing codon optimized S protein of IBV was evaluated in 4-week-old SPF chickens against the OIE recommended dose of virulent IBV challenge 1 . A total of twenty 4-week-old SPF chickens were divided into four groups of five each. Five chickens of groups one and two were inoculated with 10 7 EID 50 of rNDV and rNDV/codon optimized-S, respectively, via oculanasal route. Five chickens of group three were inoculated with 10 recommended doses of a commercial live attenuated Mass-type IBV vaccine via oculanasal route and chickens of group four were inoculated with PBS. Three weeks after immunization, chickens of all groups were challenged with 10 3.1 EID 50 of virulent IBV strain Mass-41 by the oculonasal route. The severity scores of clinical signs of IBV, described in IBV protection experiment 1, were recorded for 10 days post-challenge. In order to evaluate the efficacy of rNDV expressing S protein of IBV in preventing shedding of virulent IBV in immunized chickens, at day 5 post-challenge, tracheal swab samples were collected from twenty chickens and placed in 1.5 ml serum free DMEM with 10 X antibiotic. The swab samples were analyzed for quantification of viral RNA using an IBV-N gene-specific RT-qPCR. IBV protection experiment 3. In this study, the protective efficacy of rNDV expressing codon optimized S protein of IBV was evaluated in 4-week-old SPF chickens against a higher dose of virulent IBV challenge. A total of thirty two 4-week-old SPF chickens were divided into four groups of eight each. Eight chickens of group one and two were inoculated with 10 7 EID 50 of rNDV and rNDV/codon optimized-S, respectively, via oculanasal route. Eight chickens of group three were inoculated with 10 recommended doses of a commercial live attenuated Mass-type IBV vaccine via oculanasal route and chickens of group four were inoculated with PBS. Three weeks after immunization, chickens of all groups were challenged with 10 4.7 EID 50 of virulent IBV strain Mass-41 by the oculonasal route. The severity scores of clinical signs of IBV, described in IBV protection experiment 1, were recorded for 8 days post-challenge. At day 4 post-challenge, three chickens from each group were euthanized for tracheal ciliostasis analysis (data not shown). In order to evaluate the efficacy of rNDV expressing S protein of IBV in preventing shedding of virulent IBV in immunized chickens, tracheal swab samples were collected from five chickens from each group and placed in 1.5 mL serum free DMEM with 10 X antibiotic. Each fluid was tested for IBV specific lesions on chicken embryo by inoculation (0.1 ml) of one 10-day-old embryonated SPF chicken egg. The swab samples were also analyzed for quantification of viral RNA using an IBV-N gene-specific RT-qPCR. The swab samples collected from two non-vaccinated SPF chickens involved in another IBV protection study also were used as control.IBV protection experiment 4. In this study, the protective efficacy of rNDV expressing codon optimized S protein of IBV was evaluated in 1-day-old SPF chicks against virulent IB challenge virus infected by the intraocular route. Intraocular route was used, because this route of IBV challenge has been specified by the USDA-CFR-9 33 . A total of forty five 1-day-old SPF chickens were divided into three groups of ten each and three groups of five each. Ten chickens of group one and two were inoculated with 10 7 EID 50 of rNDV, rNDV/ codon optimized-S, respectively, via oculanasal route. Ten chickens of group three were inoculated with one recommended dose of a commercial live attenuated Mass-type IBV vaccine via oculanasal route and chickens of groups four to six were left non-vaccinated. Three weeks after immunization, chickens of all groups one to four were challenged with 10 4 EID 50 of virulent IBV strain Mass-41 by the intraocular route, chickens of group five were challenged with 10 4 EID 50 of virulent IBV strain Mass-41 by the oculanasal route, and chickens of group six were left non-infected. The severity scores of clinical signs of IBV, described in IBV protection experiment 1, were recorded for 10 days post-challenge. In order to evaluate the efficacy of rNDV expressing S protein of IBV in preventing shedding of virulent IBV in immunized chickens, at day 5 post-challenge, tracheal swab samples were collected from all chickens of each group and placed in 3 mL serum free DMEM with 10 X antibiotic. Each fluid was tested for IBV specific lesions on chicken embryo by inoculation with 0.2 ml to each of five 10-day-old embryonated SPF chicken egg. The sample was considered positive for virus shedding, if any of the five embryos showed IBV lesions.We performed all experiments involving virulent IBV in our USDA approved Biosafety level-2 and Biosafety level-2 plus facilities following the guidelines and approval of the Animal Care and Use Committee (IACUC), University of Maryland.The protective efficacy of rNDV expressing S protein of IBV against virulent NDV challenge. The protective efficacy of rNDV expressing S protein of IBV strain Mass-41 was evaluated against a virulent NDV strain GB Texas challenge in our biosafety level 3 (BSL-3) plus facility. Briefly, a total of fifteen 1-day-old chicks were divided into three groups of five each. Chicks of two groups were inoculated with 10 7 EID 50 of rNDV and rNDV/IBV-codon optimized-S via oculonasal route. The five chickens of group three were inoculated with PBS. Three weeks after immunization, blood samples of all birds were collected for NDV antibody response analysis and challenged with one hundred 50% chicken lethal dose (CLD 50 ) of the highly virulent NDV strain GB Texas via oculonasal route. The chickens were observed daily for 10 days after challenge for mortality with clinical signs of disease (neurological signs included torticollis, paralysis, and prostration). We performed the experiment involving virulent NDV in our USDA approved Biosafety level-3 plus facility following the guidelines and approval of the Animal Care and Use Committee (IACUC), University of Maryland.SCientifiC REPoRTS | (2018) 8:11951 | DOI:10.1038/s41598-018-30356-2 Serological analysis. The level of antibodies induced against NDV and IBV were evaluated. The serum samples were collected three weeks post-immunization. Hemagglutination inhibition (HI) assay using a standard protocol OIE was used to assess the level of antibody titer mounted against NDV in chickens immunized by rNDVs 27 . The virus neutralization assay according to OIE was used to measure the level of neutralizing antibodies mounted against IBV 1 . Briefly, serum samples of three birds from the group immunized with rNDV expressing codon optimized S protein of IBV and serum samples of three birds from the group immunized with commercial IBV vaccine group were incubated at 56 °C for 30 minutes. One hundred EID 50 of IBV strain Mass-41 was mixed with 2 fold dilutions of antiserum and incubated for 1 hour at 37 °C. One hundred µL of each serum and virus mixture was inoculated into three 10-day-old embryonated SPF chicken eggs. To confirm that at least 100 EID 50 of virus was inoculated into each egg, three eggs were inoculated with 100 µl of PBS containing 100 EID 50 of IBV. Three eggs were inoculated with 100 µL of PBS as negative control. Three eggs were inoculated with a mixture of 100 EID 50 of IBV and a dilution of 1:8 of a randomly selected serum sample collected from a bird immunized with rNDV strain LaSota as vector control. The eggs were incubated at 37 °C and were observed daily for dead chicken embryos for 7 days post inoculation. The serum titers were calculated according to the method of Reed and Muench 40 , based on mortality and IBV specific lesions on chicken embryos.Quantitative reverse transcription-polymerase chain reaction (RT-qPCR). RNA was extracted using TRIzol Reagent (Invitrogen) from tracheal swab samples collected from chickens. The first strand cDNA was synthesized using Thermo Scientific RevertAid Reverse Transcriptase (RT). SYBR green RT-qPCR was performed using a specific primer pair set: (a) N gene -296 forward primer: 5′ GACCAGCCGCTAACCTGAAT 3′ and (b) N gene -445 reverse primer: 5′ GTCCTCCGTCTGAAAACCGT 3′ amplifying 150 nt of N gene of IBV strain Mass-41. PCRs were performed using a Bio-Rad CFX96 Cycler. Each 20 µl reaction was carried out using 5 µl of cDNA, 10 µl of iTaq Universal SYBR Green Supermix (Bio-Rad), 2 µl of forward and reverse primers and 3 µl of nuclease free water. Forty cycles of PCR at 95 °C for 10 s (denaturation), 58 °C for 20 s (annealing), and 72 °C for 30 s (elongation) followed by melting curve analysis that consisted of 95 °C for 5 s and 65 °C for 60 s. A serial 10 fold dilution of cDNA synthesized from extracted RNA of allantoic fluid stock of a virulent IBV strain Mass-41 with 10 7.5 EID 50 /ml was used to establish the standard curve. The cDNA synthesized from extracted RNA of allantoic fluid stock of a virulent IBV strain Mass-41 and the cDNA synthesized from extracted RNA of swab sample solution were served as positive and negative controls, respectively. Melting point analysis was used to confirm the specificity of the test.Statistical analysis. Data were analyzed among groups by One-Way-ANOVA test. The student t-test was used to compare two groups. To avoid bias, all animal experiments were designed as blinded studies.\\n\\n\",\n",
       " 'Introduction\\n\\nThe concentration and ratio of purine nucleotides and deoxynucleotides in the nucleotide pool is highly regulated in order to maintain the proper function and genetic stability of mammalian cells. 1 Imbalances in (deoxy)nucleotide pool may have mutagenic consequences 2 and may lead to various diseases, such as combined immunodeficiency (loss of purine nucleoside phosphorylase (PNP) function), 3 hyperuricemia (loss of hypoxanthine-guanine phosphoribosyltransferase (HGPRT) function) 4 or cancer (uncontrollable activity of inosine-5 0 -monophosphate dehydrogenase, IMPDH). 5 Xanthosine monophosphate (XMP, 1, Figure 1 ) is an important intermediate in the de novo synthesis of guanine nucleotides and its concentration is essential for the maintenance of guanine nucleotide pool, 6 where XMP serves as a substrate for guanosine monophosphate synthase, 7 that produces guanosine monophosphate (GMP). XMP is formed either from inosine monophosphate (IMP) by IMPDH or via salvage pathway using hypoxanthine or xanthine phosphoribosyltransferase. The XMP level is regulated by 5 0 -nucleotidase that hydrolyzes XMP to xanthosine.In contrast, the corresponding deoxyribonucleotide analogues, dXMP (2, Figure 1 ) and dXTP, are catabolic products of dGMP and dGTP enzymatic hydrolysis, or can be formed by defective purine nucleotide metabolism (involving deaminase enzymes), 8 or by chemical hydrolysis 9 of dGMP/dGTP via NO x -mediated nitrosative stress. 10 These processes can lead to a substantial incorporation of xanthine nucleotides into DNA and/ or RNA, 8 and subsequently to RNA miscoding and mutagenesis. 11 Moreover, deaminated nucleotides can interfere with RNA editing 12 and with functions of noncoding RNAs. 13 Under cell physiological homeostasis, the concentration and ratio of potentially mutagenic nucleotide intermediates, such as (d)IDP/(d)ITP/(d)XTP, is maintained by housekeeping enzymes, 14 especially those from nudix family such as ITPases/XTPpases, 15, 16 NUDT 16 or ITPA, 17 that can hydrolyze corresponding nucleoside di-or triphosphates. The main function of housekeeping enzymes is to prevent or minimize the incorporation of noncanonical nucleotides into DNA/ RNA. Unfortunately, the literature on housekeeping enzymes hydrolyzing dXDP/dXTP has been quite rare up to date. Herpesviruses 18 are DNA-containing enveloped viruses from large Herpesviridae family and include herpes simplex virus (HSV), varicella-zoster virus (VZV), cytomegalovirus (CMV), and Epstein-Barr virus (EBV). Although current anti-herpetic therapy uses powerful antivirotics such as nucleoside analogues (acyclovir (ACV), penciclovir, vidarabine, and ganciclovir (GCV)), acyclic nucleoside phosphonate (ANP) cidofovir (CDV) (3, Figure 1 ), 19 or diphosphate mimic foscarnet, 20 many drug insensitive viruses have been identified in the clinics. The origin of virus resistance for HSV, VZV or CMV comes mostly from treatment using DNA polymerase inhibitors, such as ACV and GCV, where various alterations in the viral thymidine kinase gene [UL23 (HSV) and ORF36 (VZV)], protein kinase [UL97 (CMV)] and/or viral DNA polymerase gene [UL30 (HSV), ORF28 (VZV) and UL54 (CMV)] may occur. [21] [22] [23] As recent literature has shown, 24 the presence of resistant herpesviruses should be considered seriously not only in the case of immunocompromised individuals. Evidently, there is an urgent need for novel potent anti-herpetic agents with high barrier of resistance development.ANPs, 25 mimics of natural nucleotides (avoiding the first phosphorylation step), represent a potent group of antiviral agents. ANPs are converted inside the cells to their diphosphates (ANPpp) that target DNA polymerase -viral and/or cellular. 19 These nucleoside triphosphate analogues act as competitive inhibitors and/or alternative substrates of the respective enzymes, in the later case leading to termination of DNA chain elongation. 19 Although some ANPs derived from xanthine were studied before as potential antiviral agents (namely the 9-[3-fluoro-2-(phosphonomethoxy)propyl] derivative, FPMPX), 26 the general lack of interest in such compounds was probably caused by their relatively complicated synthesis, since simple alkylation of xanthine base was expected to give a mixture of several regioisomers as well as polyalkylated products. Recently, we have reported 27 a simple and highyielding synthesis of xanthine ANPs exploiting the MW-assisted hydrolysis of the corresponding 2,6dichloropurine derivatives. Here, we report the synthesis and antiviral evaluation of a series of xanthinebased ANPs (compounds 4-9, Figure 1 ), designed as non-hydrolyzable analogues of dXMP/XMP.\\n\\nChemistry\\n\\nThe synthesis of 9-[2-(phosphonomethoxy)ethyl]xanthine (PMEX, 4, Scheme 1), a xanthine analogue of the well-known antiviral agent adefovir (PMEA), 28 has been reported by our group earlier. 27 The microwave-assisted hydrolysis of 2,6-dichloropurine derivative 10 29 in aqueous HCl afforded the desired xanthine compound 4 in a 85% yield.For the synthesis of other target ANPs, compounds 5-9 (Scheme 2), previously reported 26,30-34 guanine containing ANPs 11-15, have been exploited as a starting material. Standard diazotization of compounds 11-15 followed by 2-hydroxy-dediazoniation afforded the desired xanthine-based ANPs 5-9 in moderate to good yields (36-82%).Since PMEX (4) exhibited promising antiviral properties, we decided to prepare several PMEX prodrugs in order to improve the compound permeability which might be limited for this negatively charged compound. At first, N 6 -cyclopropylaminopurine derivative 17 (Scheme 3) was prepared in a 75% yield from the corresponding N 6 -cyclopropyl-2,6-diaminopurine derivative 16, 35 using the above mentioned diazotization/2-hydroxy-dediazoniation procedure. Compound 17 was expected to be enzymatically converted (deaminated) to PMEX in an analogy to com- pound GS-9219 (an acyclic nucleotide analogue with potent antineoplastic activity), 36 and abacavir (a carbocyclic nucleoside used for the treatment of HIV infection). 37 Next, PMEX hexadecyloxypropyl (HDP) monoester 18 (Scheme 4), a prodrug approach developed by Hostetler et al. as a mimic of natural lipids, 38 was prepared from PMEX (4) and hexadecyloxypropyl alcohol via DCC-mediated coupling in a 23% yield. Similarly, phosphonate ester 19 (Scheme 4) bearing a perfluorinated-C12 chain was prepared by the same procedure in a 30% yield. Finally, the bisamidate prodrug 20 (Scheme 4) was obtained in a 13% yield starting from PMEX (4) and isopropyl ester of L-phenylalanine using the previously described procedure developed in our lab. 39 In order to confirm the expected mode of action of PMEX (4), i.e. viral DNA polymerase inhibition, the corresponding phosphonodiphosphate 21 (Scheme 5), as an analogue of natural nucleoside triphosphate, was also prepared. The two-step synthesis via a morpholidate intermediate 40 afforded, after the HPLC purification, the desired triphosphate mimic 21 in a low (3%) yield.\\n\\nBiology\\n\\nThe synthesized xanthine-based ANPs (compounds 4-9) were evaluated for inhibitory activity against a wide range of DNA and RNA viruses: in human embryonic lung (HEL) cells (herpes simplex virus-1 (KOS strain), herpes simplex virus-2 (G strain), thymidine kinase deficient (ACV resistant) herpes simplex virus-1 (TK -KOS ACV r ), vaccinia virus, vesicular stomatitis virus, human cytomegalovirus (HCMV) (AD-169 strain and Davis strains), VZV (TK þ VZV strain and TK -VZV strains)), in HeLa cell cultures (vesicular stomatitis virus, Coxsackie virus B4 and respiratory syncytial virus (RSV)), in Vero cell cultures (para-influenza-3 virus, reovirus-1, Sindbis virus, Coxsackie virus B4, Punta Toro virus, yellow fever virus), in CrFK cell cultures (feline corona virus (FIPV)), and in MDCK cell cultures (influenza A virus (H1N1 and H3N2 subtypes) and influenza B virus). GCV, CDV, ACV, brivudin (BVDU), zalcitabine, zanamivir, alovudine, amantadine, rimantadine, ribavirin, dextran sulfate (molecular weight 10000, DS-10000), mycophenolic acid, Hippeastrum hybrid agglutinin (HHA), and Urtica dioica agglutinin (UDA) were used as the reference compounds. The antiviral activity was expressed as the EC 50 , i.e. compound concentration required to decrease virus plaque formation (VZV) or virusinduced cytopathogenicity (other viruses) by 50%. While none of the compounds showed any activity against RNA viruses, compounds 4, 5 and 6 were able to inhibit the replication of herpesviruses (Tables 1 and 2 ). PMEX (4) emerged as the most active compound against VZV and HCMV, being as active as the reference drug ACV against the TK þ Oka strain (EC 50 ¼ 2.62 mM (PMEX) versus 3.42 mM (ACV)). In contrast to ACV, compound 4 remained active against the TK -VZV 07-1 strain (EC 50 ¼ 4.58 mM). PMEX also inhibited the replication of HCMV with EC 50 values of the same order of magnitude as the reference anti-HCMV drug GCV, while PMEX had a 50% cytostatic concentration of 111 mM for HEL cells. Thus, compound 4 was not only potent but also selective as the calculated selectivity indices (ratio CC 50 /EC 50 ) were of 24 and 42 (VZV 07-1 and Oka strains, respectively) and of 11 and 13 (HCMV AD-169 and Davis strains, respectively). Compounds 5 and 6 were, respectively, 6 to 12 folds and 3 to 8 folds less active than PMEX against VZV and HCMV. However, compounds 4, 5 and 6 inhibited the replication of HSV-1, HSV-2 and TK-HSV-1 at equivalent EC 50 values in the range of 16 to 39 mM. PMEX (4) lacked activity against vaccinia virus, while HPMPX compounds (both S-isomer 6 and racemic mixture 5) were weak inhibitors of this poxvirus (EC 50 ¼ 39 mM, Table 2 ).ANPs, including PMEX, are polar compounds, showing severely limited bioavailability. To increase the likelihood of good cell wall permeability, several different prodrug approaches were tested for PMEX (Tables 3 and 4 ). Compound 17 was completely inactive in all assays. Phosphonate ester 19 and biamidate prodrug 20 did not display any potent antiherpesvirus activity which might be explained by insufficient prodrug activation in these cells. The HDP-PMEX prodrug 18 proved to be 7 to 26 folds (VZV), 52 to 170 folds (HCMV) and 6 to 12 folds (HSV) more active compound than the parent compound 4, although a concomitant increase in its cytostatic activity of 11-fold was also observed indicating successful increase in the cell uptake.In order to determine whether the DNA polymerase was the actual target of action of PMEX (4), the compound was evaluated against well-characterized HSV-1 mutant viruses. Alike all ANPs, PMEX remained active against viruses bearing mutations in the viral TK ( Figure 2) . Importantly, an increase in the EC 50 of PMEX of the same magnitude as that measured for the ANP adefovir 28 was found for DNA polymerase mutant viruses indicating that the target of action of the active form of compound 4 (i.e. PMEXpp) is the herpesvirus DNA polymerase.The inhibitory activity of the diphosphate form of PMEX (PMEXpp, 21) was evaluated in an enzymatic assay against herpes (VZV and HCMV) DNA polymerases compared to cellular (a and b) DNA polymerases ( Table 5 ). The inhibition of ACV triphosphate and the pyrophosphate analogue of foscarnet (PFA) were determined in this study for comparison. Compound 21 was not inhibitory towards cellular DNA polymerases, while it inhibited VZV DNA polymerase when dGTP was used as the competitive radiolabeled substrate (IC 50 ¼ 7.4 mM). However, no activity at the highest concentration of 21 (100 mM) could be detected against HCMV DNA polymerase when either dGTP or dTTP were used as the competitive radiolabeled substrates. These data suggest that compound 21 is a poor inhibitor of HCMV DNA polymerase or that the compound 13 C NMR) as internal standard or referenced to the residual solvent signal. HR MS spectra were taken on a LTQ Orbitrap XL spectrometer. The purity of the tested compounds was determined by HPLC (H 2 O-CH 3 CN, linear gradient) and was higher than 95%.\\n\\nMethod A. General procedure for diazotization/ 2-hydroxy-dediazoniation of guanine-based starting compounds\\n\\nGuanine-based phosphonate (0.5 mmol) was dissolved in 80% AcOH (20 mL) and excess of isoamylnitrite (2.0 mL) was added. The reaction mixture was stirred at 20 C for 16 h. Volatiles were evaporated, and the residue was co-evaporated with water (3 Â 10 mL) and evaporated to dryness. The crude product was dissolved in a small amount of water and purified by preparative HPLC in 0.1 M TEAB buffer using gradient water/methanol (from 98/2 to 20/80).((2-(2,6-Dioxo-1,2,3,6-tetrahydro-9H-purin-9-yl)ethoxy) methyl)phosphonic acid (4), PMEX. Synthesis of compound 4 was performed from compound 10 (2.0 g, 4.86 mmol), using previously described procedure. 27 Microwave-assisted heating (130 C, 20 min) of compound 10 in aqueous HCl (1.0 M), followed by solvent removal and precipitation form a water/methanol mixture gave 4 (1.2 g, 85%) as a white solid. The analytical data are in an agreement with the published data. 27 (RS)-(((1-(2,6-Dioxo-1,2,3,6-tetrahydro-9H-purin-9-yl)-3hydroxypropan-2-yl)oxy)methyl)phosphonic acid (5) 3-(Hexadecyloxy)propyl hydrogen ((2-(2,6-dioxo-1,2,3,6tetrahydro-9H-purin-9-yl)ethoxy)methyl)phosphonate (18) . A suspension of 4 (100 mg, 0.31 mmol) and 3-(hexadecyloxy)propan-1-ol (124 mg, 0.41 mmol) in anhydrous pyridine (10 mL) was preheated to 100 C. Dicyclohexylcarbodiimide (142 mg, 0.69 mmol) in anhydrous pyridine (3 ml) was added and the reaction mixture was stirred at 100 C for 16 h. Solvent was evaporated and the crude product was purified using silica gel chromatography (CHCl 3 /MeOH, 0-50%) to give 18 (46 mg, 23%) as a white amorphous solid. 1 4, 4, 5, 5, 6, 6, 7, 7, 8, 8, 9, 9, 10, 10, 11, 11, 11 -Heptadecafluoroundecyl hydrogen ((2-(2,6-dioxo-1,2,3,6-tetrahydro-9H-purin-9-yl) ethoxy)methyl)phosphonate (19) . A suspension of 4 (100 mg, 0.31 mmol) and 4,4,5,5,6,6,7,7,8,8,9,9,10, 10,11,11,11-heptadecafluoroundecan-1-ol (198 mg, 0.41 mmol) in anhydrous pyridine (10 mL) was preheated to 100 C. Dicyclohexylcarbodiimide (142 mg, 0.69 mmol) in anhydrous pyridine (3 ml) was added and the reaction mixture was stirred at 100 C for 16 h. Solvent was evaporated and the crude product was purified using silica gel chromatography (CHCl 3 / MeOH, 0-50%) to give 19 (78 mg, 30%) as a white amorphous solid. 1 Bis(L-phenylalanine isopropyl ester) ((2-(2,6-dioxo-1,2,3,6tetrahydro-9H-purin-9-yl)ethoxy)methyl)phosphonate (20) . TMSBr (330 mL) was added to the mixture of 4 (117 mg, 0.33 mmol) in dry pyridine (4 ml) and DMF (1 ml). The reaction mixture was stirred at 25 C for 16 h. Volatiles were removed and the moisture-sensitive product was permanently kept under argon. Solid isopropyl ester L-phenylalanine hydrochloride (330 mg, 1.4 mmol) was added to the silylated intermediate under argon, followed by dry pyridine (5 ml) and dry Et 3 N (660 ml, 4.7 mmol). The mixture was preheated to 70 C and freshly prepared solution of aldrithiol-2 (0.45 g, 2.0 mmol) and triphenylphosphine (0.54 g, 2.0 mmol) in pyridine (4 ml) was added. The resulting mixture was stirred at 70 C for 72 h. Reaction mixture was evaporated in vacuo and the residue was purified by column chromatography (0-100% MeOH in a mixture of Hexane:EtOAc, 6:4) followed by C18 reversed phase column chromatography (0-100% MeOH in water) to give 20 (30 mg, 13%) as an amorphous white solid. ((2-(2,6-Dioxo-1,2,3,6-tetrahydro-9H-purin-9-yl)ethoxy) methyl)phosphonic diphosphoric anhydride (21) . PMEX morpholidate: Morpholine (0.35 mL, 4.0 mmol) was added to a mixture of 4 (360 mg, 1.0 mmol) in t-BuOH/ H 2 O (35 mL, 2.5/1, v/v) preheated to 100 C. Then, a solution of dicyclohexylcarbodiimide (825 mg, 4.0 mmol) in t-BuOH/H 2 O (48 mL, 5/1, v/v) was added dropwise to the boiling reaction mixture over a period of 1 h. The mixture was heated to 100 C overnight. After cooling down, solids were filtered off, and the mixture was concentrated up to half of the volume, and diluted with water (200 ml). The aqueous solution was extracted with diethyl ether (3 Â 10 mL) and the organic layer was dried (Na 2 SO 4 ) and evaporated to dryness. Crude morpholidate was used directly for the pyrophosphate coupling.Pyrophosphate coupling: Prepared morpholidate (0.2 mmol) was carefully dried over P 2 O 5 and treated with (NHBu 3 ) 2 H 2 P 2 O 7 (0.5 M solution in DMF, 3 ml) at room temperature for 48 h. The product was precipitated with diethyl ether (10 ml) and the solid was washed with diethyl ether (10 ml). The precipitated product was dissolved in 0.05 M TEAB (4 ml) and purified on a column packed with POROS V R 50 HQ (50 ml) with use of a gradient of TEAB in water (0.05-0.5 M). The product was co-evaporated several times with water and converted into a sodium salt form (Dowex 50 in Na þ cycle). Lyophylisation afforded 21 (5 mg, 3%) as a white amorphous solid. 1 Biological assays. The compounds were evaluated against different herpesviruses, including herpes simplex virus type 1 (HSV-1) strain KOS, thymidine kinase-deficient (TK-) HSV-1 KOS strain resistant to ACV (ACV r ), herpes simplex virus type 2 (HSV-2) strain G, VZV strain Oka, TK-VZV strain 07-1, human cytomegalovirus (HCMV) strains AD-169 and Davis as well as vaccinia virus, adeno virus-2, vesicular stomatitis virus, para-influenza-3 virus, reovirus-1, Sindbis virus, Coxsackie virus B4, Punta Toro virus, RSV, FIPV and influenza A virus subtypes H1N1 (A/PR/8), H3N2 (A/ HK/7/87) and influenza B virus (B/HK/5/72). The antiviral assays were based on inhibition of virus-induced cytopathicity or plaque formation in human embryonic lung (HEL) fibroblasts, African green monkey kidney cells (Vero), human epithelial cervix carcinoma cells (HeLa), Crandell-Rees feline kidney cells (CRFK), or Madin Darby canine kidney cells (MDCK). Confluent cell cultures in microtiter 96-well plates were inoculated with 100 CCID 50 of virus (1 CCID 50 being the virus dose to infect 50% of the cell cultures) or with 20 PFU, and the cell cultures were incubated in the presence of varying concentrations of the test compounds. Viral cytopathicity or plaque formation (VZV) was recorded as soon as it reached completion in the control virusinfected cell cultures that were not treated with the test compounds. Antiviral activity was expressed as the EC 50 or compound concentration required reducing virus-induced cytopathicity or viral plaque formation by 50%.Compound 4 was evaluated against several TK and DNA polymerase mutants derived from the reference Kos strain by CPE reduction assay using as reference drugs ACV, GCV, BVDU, foscavir, CDV and adefovir (ADV).Cytotoxicity of the tested compounds was expressed as the minimum cytotoxic concentration or the compound concentration that caused a microscopically detectable alteration of cell morphology. Alternatively, the cytostatic activity of the test compounds was measured based on the inhibition of cell growth. HEL cells were seeded at a rate of 5 Â 10 3 cells/ well into 96-well microtiter plates and allowed to proliferate for 24 h. Then, medium containing different concentrations of the test compounds was added. After three days of incubation at 37 C, the cell number was determined with a Coulter counter. The cytostatic concentration was calculated as the CC 50 , or the compound concentration required reducing cell proliferation by 50% relative to the number of cells in the untreated controls.The inhibitory effects of PMEXpp on human (a and b) and viral (VZV and HCMV) DNA polymerases were determined as previously described using activated calf thymus DNA, 100 mM of each of the three unlabeled dNTPs, and 0.5 mM of the rate limiting tritiumlabeled dNTP, and serial dilutions of PMEXpp (21) . Foscarnet pyrophosphate and acyclovir triphosphate (ACV-TP) were included as the reference compound. The 50% inhibitory concentration or compound concentration required to inhibit the polymerase-catalyzed DNA synthesis by 50% was then determined.\\n\\n']"
      ]
     },
     "execution_count": 59,
     "metadata": {},
     "output_type": "execute_result"
    }
   ],
   "source": [
    "list(data_dict['consolidated_full_text']['text'][1])"
   ]
  },
  {
   "cell_type": "markdown",
   "metadata": {},
   "source": [
    "## 3.0 - Export Dataframes for Offline Analysis or Secondary Processes\n",
    "\n",
    "The following code block will allow you to select and export dataframes to a local directory.  Use the inputs below to write the files to your current directory and to apply a timestamp to the filenames to prevent the risk of overwriting prior files saved to that folder."
   ]
  },
  {
   "cell_type": "markdown",
   "metadata": {},
   "source": [
    "## 3.1 - Load Export Functions\n",
    "\n",
    "The functions below will make two types of export types available to the user.  One will allow you to export the files as .xlsx files, while the other supports exporting as parquet."
   ]
  },
  {
   "cell_type": "code",
   "execution_count": 60,
   "metadata": {},
   "outputs": [],
   "source": [
    "def dict_to_excel(dict_name, dframe, subfolder, timestamp = False):\n",
    "    \n",
    "    # Inputs: a dictionary of dataframes; timestamp = True adds an ISO-formatted suffix to the filename\n",
    "    # Description: Writes dataframes contained within a dictionary to xlsx (on your directory)\n",
    "\n",
    "    if subfolder:\n",
    "        file_path = subfolder+'/'\n",
    "        suffix = '_' + re.sub(r\"\\:+\", '', dt.datetime.now().isoformat()) + '.xlsx' if timestamp else '.xlsx'  \n",
    "        file_path = os.path.join(file_path, dframe + suffix)\n",
    "    else:\n",
    "        suffix = '_' + re.sub(r\"\\:+\", '', dt.datetime.now().isoformat()) + '.xlsx' if timestamp else '.xlsx'  \n",
    "        file_path = os.path.join(dframe + suffix)\n",
    "        \n",
    "    try:\n",
    "        dict_name[dframe].to_excel(file_path, index = False)\n",
    "        print('Successfully wrote {} with {} rows and {} columns to the directory'.format(dframe+suffix, dict_name[dframe].shape[0], dict_name[dframe].shape[1]))\n",
    "    except Exception as e:\n",
    "        print('Writing the data to the directory failed')\n",
    "        \n",
    "def dict_to_parquet(dict_name, dframe, subfolder, timestamp = False):\n",
    "    \n",
    "    # Inputs: a dictionary of dataframes; timestamp = True adds an ISO-formatted suffix to the filename\n",
    "    # Description: Writes dataframes contained within a dictionary to parquet (on your directory)\n",
    "\n",
    "    if subfolder:\n",
    "        file_path = subfolder+'/'\n",
    "        suffix = '_' + re.sub(r\"\\:+\", '', dt.datetime.now().isoformat()) + '.parquet.gzip' if timestamp else '.parquet.gzip'  \n",
    "        file_path = os.path.join(file_path, dframe + suffix)\n",
    "    else:\n",
    "        suffix = '_' + re.sub(r\"\\:+\", '', dt.datetime.now().isoformat()) + '.parquet.gzip' if timestamp else '.parquet.gzip'  \n",
    "        file_path = os.path.join(dframe + suffix)\n",
    "        \n",
    "    try:\n",
    "        dict_name[dframe].to_parquet(file_path, compression='gzip')\n",
    "        print('Successfully wrote {} with {} rows and {} columns to the directory'.format(dframe+suffix, dict_name[dframe].shape[0], dict_name[dframe].shape[1]))\n",
    "    except Exception as e:\n",
    "        print('Writing the data to the directory failed')\n"
   ]
  },
  {
   "cell_type": "markdown",
   "metadata": {},
   "source": [
    "## 3.2 - Select and Export Files\n",
    "\n",
    "The code block below will allow you to select which files you would like to extract and in what format.  If choosing to write the files to a \"subfolder\" - please ensure that the subfolder exists in your directory."
   ]
  },
  {
   "cell_type": "markdown",
   "metadata": {},
   "source": [
    "Select one or more available dataframes, then select whether or not you'd like the files saved to the current working directory or a subfolder in the directory.  Lastly, if you would like a timestamp to be added to your exported filenames, select Timestamp = 'yes' to prevent overwriting prior files saved to the folder.\n",
    "\n",
    "### Important Note:\n",
    "The **consolidate_full_text** label in the Tables-menu option below contains the \"stacked\" full-text contained in all of the original datasources (combined).  The other labels containing the **full_text** suffix contain the full text for those respective sources ONLY."
   ]
  },
  {
   "cell_type": "code",
   "execution_count": 61,
   "metadata": {},
   "outputs": [
    {
     "data": {
      "application/vnd.jupyter.widget-view+json": {
       "model_id": "1911efc853e54c06aced27cdc4d267f7",
       "version_major": 2,
       "version_minor": 0
      },
      "text/plain": [
       "SelectMultiple(description='Tables:', layout=Layout(width='50%'), options=('biorxiv_medrxiv_full_text', 'custo…"
      ]
     },
     "metadata": {},
     "output_type": "display_data"
    },
    {
     "data": {
      "application/vnd.jupyter.widget-view+json": {
       "model_id": "9a09ec060c6b41f8acb344562cdb4d2b",
       "version_major": 2,
       "version_minor": 0
      },
      "text/plain": [
       "interactive(children=(RadioButtons(description='Subfolder:', options=('no', 'yes'), value='no'), Output()), _d…"
      ]
     },
     "metadata": {},
     "output_type": "display_data"
    },
    {
     "data": {
      "application/vnd.jupyter.widget-view+json": {
       "model_id": "b6115700e1d04713b483c294c5e9dd83",
       "version_major": 2,
       "version_minor": 0
      },
      "text/plain": [
       "RadioButtons(description='Timestamp:', options=('no', 'yes'), value='no')"
      ]
     },
     "metadata": {},
     "output_type": "display_data"
    },
    {
     "data": {
      "application/vnd.jupyter.widget-view+json": {
       "model_id": "1c8d2ccfe3794e2e9524f01b44a05b93",
       "version_major": 2,
       "version_minor": 0
      },
      "text/plain": [
       "RadioButtons(description='Output Type:', options=('xlsx', 'parquet'), value='xlsx')"
      ]
     },
     "metadata": {},
     "output_type": "display_data"
    }
   ],
   "source": [
    "dict_keys = widgets.SelectMultiple(\n",
    "    options=data_dict.keys(),\n",
    "    description='Tables:',\n",
    "    disabled=False,\n",
    "    layout=Layout(width='50%')\n",
    ")\n",
    "\n",
    "display(dict_keys)\n",
    "\n",
    "subfolder_option = widgets.RadioButtons(\n",
    "    options=['no','yes'],\n",
    "    value='no',\n",
    "    description='Subfolder:',\n",
    "    disabled=False\n",
    ")\n",
    "\n",
    "output_type = widgets.RadioButtons(\n",
    "    options=['xlsx','parquet'],\n",
    "    value='xlsx',\n",
    "    description='Output Type:',\n",
    "    disabled=False\n",
    ")\n",
    "\n",
    "timestamp_option = widgets.RadioButtons(\n",
    "    options=['no','yes'],\n",
    "    value='no',\n",
    "    description='Timestamp:',\n",
    "    disabled=False\n",
    ")\n",
    "\n",
    "subfolder_text = widgets.Text(\n",
    "    value='output',\n",
    "    placeholder='Subfolder name',\n",
    "    description='Subfolder:',\n",
    "    disabled=False,\n",
    "    layout=Layout(width='50%')\n",
    ")\n",
    "\n",
    "def sub_folder_edit(y):\n",
    "    if(y=='yes'):\n",
    "        display(subfolder_text)\n",
    "        subfolder_text.on_submit(subfolder_text)\n",
    "        print('Your file(s) will be written to the subfolder in {}[Your Entry Above]'.format(os.getcwd()+os.sep))\n",
    "    else:\n",
    "        print('Using {} folder'.format(os.getcwd()))\n",
    "        \n",
    "y = widgets.interactive(sub_folder_edit, y=subfolder_option)\n",
    "\n",
    "display(y, timestamp_option, output_type)"
   ]
  },
  {
   "cell_type": "markdown",
   "metadata": {},
   "source": [
    "## Reminder: Do not rerun the cell above after applying your inputs\n",
    "\n",
    "### Click on and Run this cell to proceed\n",
    "Execute the code cell below to export the csv files to your chosen directory.\n",
    "\n",
    "**NOTE:** If you have chosen to write your files to a \"subfolder\" - ensure that the folder can be found in your working directory.  The function below will \"not create a subfolder\" in your directory."
   ]
  },
  {
   "cell_type": "code",
   "execution_count": 62,
   "metadata": {},
   "outputs": [
    {
     "name": "stdout",
     "output_type": "stream",
     "text": [
      "Successfully wrote biorxiv_medrxiv_full_text.xlsx with 885 rows and 11 columns to the directory\n",
      "Successfully wrote custom_license_full_text.xlsx with 16959 rows and 11 columns to the directory\n",
      "Successfully wrote comm_use_subset_full_text.xlsx with 9118 rows and 11 columns to the directory\n",
      "Successfully wrote noncomm_use_subset_full_text.xlsx with 2353 rows and 11 columns to the directory\n",
      "Successfully wrote metadata_file.xlsx with 44220 rows and 16 columns to the directory\n",
      "Successfully wrote consolidated_full_text.xlsx with 29315 rows and 12 columns to the directory\n"
     ]
    }
   ],
   "source": [
    "if subfolder_option.value == 'yes':\n",
    "    subfolder = subfolder_text.value\n",
    "else:\n",
    "    subfolder = None\n",
    "    \n",
    "dframe_list = []\n",
    "for df in dict_keys.value:\n",
    "    dframe_list.append(df)\n",
    "\n",
    "if timestamp_option.value == 'yes':\n",
    "    timestamp_boolean = True\n",
    "else:\n",
    "    timestamp_boolean = False\n",
    " \n",
    "for df in dframe_list:\n",
    "    if output_type.value == 'parquet':\n",
    "        dict_to_parquet(data_dict, df, subfolder, timestamp = timestamp_boolean)\n",
    "    else:\n",
    "        dict_to_excel(data_dict, df, subfolder, timestamp = timestamp_boolean)"
   ]
  },
  {
   "cell_type": "code",
   "execution_count": null,
   "metadata": {},
   "outputs": [],
   "source": []
  }
 ],
 "metadata": {
  "kernelspec": {
   "display_name": "Python 3",
   "language": "python",
   "name": "python3"
  },
  "language_info": {
   "codemirror_mode": {
    "name": "ipython",
    "version": 3
   },
   "file_extension": ".py",
   "mimetype": "text/x-python",
   "name": "python",
   "nbconvert_exporter": "python",
   "pygments_lexer": "ipython3",
   "version": "3.6.2"
  }
 },
 "nbformat": 4,
 "nbformat_minor": 2
}
